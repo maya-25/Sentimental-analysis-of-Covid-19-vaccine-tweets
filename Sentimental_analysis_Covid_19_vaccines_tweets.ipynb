{
  "nbformat": 4,
  "nbformat_minor": 0,
  "metadata": {
    "colab": {
      "name": "Sentimental analysis_Covid-19_vaccines_tweets.ipynb",
      "provenance": [],
      "collapsed_sections": [],
      "authorship_tag": "ABX9TyN/DgU4C7UXFEuVJ2FobRa9",
      "include_colab_link": true
    },
    "kernelspec": {
      "display_name": "Python 3",
      "name": "python3"
    },
    "language_info": {
      "name": "python"
    }
  },
  "cells": [
    {
      "cell_type": "markdown",
      "metadata": {
        "id": "view-in-github",
        "colab_type": "text"
      },
      "source": [
        "<a href=\"https://colab.research.google.com/github/maya-25/Sentimental-analysis-of-Covid-19-vaccine-tweets/blob/main/Sentimental_analysis_Covid_19_vaccines_tweets.ipynb\" target=\"_parent\"><img src=\"https://colab.research.google.com/assets/colab-badge.svg\" alt=\"Open In Colab\"/></a>"
      ]
    },
    {
      "cell_type": "code",
      "metadata": {
        "id": "vm_8ZyxK0XD5"
      },
      "source": [
        "import pandas as pd\n",
        "pd.options.mode.chained_assignment = None\n",
        "import numpy as np\n",
        "import matplotlib.pyplot as plt\n",
        "import re\n",
        "import seaborn as sns\n",
        "from textblob import TextBlob\n",
        "from wordcloud import WordCloud\n",
        "import plotly.express as px"
      ],
      "execution_count": null,
      "outputs": []
    },
    {
      "cell_type": "code",
      "metadata": {
        "id": "26fRIeYAHbCo"
      },
      "source": [
        "import nltk\n",
        "from nltk.stem.porter import PorterStemmer\n",
        "from nltk.tokenize import TweetTokenizer\n",
        "from nltk.tokenize import word_tokenize \n",
        "from nltk.corpus import stopwords\n"
      ],
      "execution_count": null,
      "outputs": []
    },
    {
      "cell_type": "code",
      "metadata": {
        "colab": {
          "base_uri": "https://localhost:8080/"
        },
        "id": "OqqpAXRLHzCd",
        "outputId": "f2ecf56c-a491-4bce-d2ef-f4637d7a7d1d"
      },
      "source": [
        "nltk.download('stopwords')"
      ],
      "execution_count": null,
      "outputs": [
        {
          "output_type": "stream",
          "text": [
            "[nltk_data] Downloading package stopwords to /root/nltk_data...\n",
            "[nltk_data]   Unzipping corpora/stopwords.zip.\n"
          ],
          "name": "stdout"
        },
        {
          "output_type": "execute_result",
          "data": {
            "text/plain": [
              "True"
            ]
          },
          "metadata": {
            "tags": []
          },
          "execution_count": 3
        }
      ]
    },
    {
      "cell_type": "code",
      "metadata": {
        "colab": {
          "base_uri": "https://localhost:8080/",
          "height": 517
        },
        "id": "0hfPOCm01A3o",
        "outputId": "6e5c3f30-7935-48ef-bfc7-1dc015c3624f"
      },
      "source": [
        "df = pd.read_csv(\"vaccination_all_tweets.csv\")\n",
        "df.head()"
      ],
      "execution_count": 9,
      "outputs": [
        {
          "output_type": "execute_result",
          "data": {
            "text/html": [
              "<div>\n",
              "<style scoped>\n",
              "    .dataframe tbody tr th:only-of-type {\n",
              "        vertical-align: middle;\n",
              "    }\n",
              "\n",
              "    .dataframe tbody tr th {\n",
              "        vertical-align: top;\n",
              "    }\n",
              "\n",
              "    .dataframe thead th {\n",
              "        text-align: right;\n",
              "    }\n",
              "</style>\n",
              "<table border=\"1\" class=\"dataframe\">\n",
              "  <thead>\n",
              "    <tr style=\"text-align: right;\">\n",
              "      <th></th>\n",
              "      <th>id</th>\n",
              "      <th>user_name</th>\n",
              "      <th>user_location</th>\n",
              "      <th>user_description</th>\n",
              "      <th>user_created</th>\n",
              "      <th>user_followers</th>\n",
              "      <th>user_friends</th>\n",
              "      <th>user_favourites</th>\n",
              "      <th>user_verified</th>\n",
              "      <th>date</th>\n",
              "      <th>text</th>\n",
              "      <th>hashtags</th>\n",
              "      <th>source</th>\n",
              "      <th>retweets</th>\n",
              "      <th>favorites</th>\n",
              "      <th>is_retweet</th>\n",
              "    </tr>\n",
              "  </thead>\n",
              "  <tbody>\n",
              "    <tr>\n",
              "      <th>0</th>\n",
              "      <td>1.340540e+18</td>\n",
              "      <td>Rachel Roh</td>\n",
              "      <td>La Crescenta-Montrose, CA</td>\n",
              "      <td>Aggregator of Asian American news; scanning di...</td>\n",
              "      <td>4/8/2009 17:52</td>\n",
              "      <td>405</td>\n",
              "      <td>1692</td>\n",
              "      <td>3247</td>\n",
              "      <td>False</td>\n",
              "      <td>12/20/2020 6:06</td>\n",
              "      <td>Same folks said daikon paste could treat a cyt...</td>\n",
              "      <td>['PfizerBioNTech']</td>\n",
              "      <td>Twitter for Android</td>\n",
              "      <td>0</td>\n",
              "      <td>0</td>\n",
              "      <td>False</td>\n",
              "    </tr>\n",
              "    <tr>\n",
              "      <th>1</th>\n",
              "      <td>1.338160e+18</td>\n",
              "      <td>Albert Fong</td>\n",
              "      <td>San Francisco, CA</td>\n",
              "      <td>Marketing dude, tech geek, heavy metal &amp; '80s ...</td>\n",
              "      <td>9/21/2009 15:27</td>\n",
              "      <td>834</td>\n",
              "      <td>666</td>\n",
              "      <td>178</td>\n",
              "      <td>False</td>\n",
              "      <td>12/13/2020 16:27</td>\n",
              "      <td>While the world has been on the wrong side of ...</td>\n",
              "      <td>NaN</td>\n",
              "      <td>Twitter Web App</td>\n",
              "      <td>1</td>\n",
              "      <td>1</td>\n",
              "      <td>False</td>\n",
              "    </tr>\n",
              "    <tr>\n",
              "      <th>2</th>\n",
              "      <td>1.337860e+18</td>\n",
              "      <td>eli�����</td>\n",
              "      <td>Your Bed</td>\n",
              "      <td>heil, hydra �☺</td>\n",
              "      <td>6/25/2020 23:30</td>\n",
              "      <td>10</td>\n",
              "      <td>88</td>\n",
              "      <td>155</td>\n",
              "      <td>False</td>\n",
              "      <td>12/12/2020 20:33</td>\n",
              "      <td>#coronavirus #SputnikV #AstraZeneca #PfizerBio...</td>\n",
              "      <td>['coronavirus', 'SputnikV', 'AstraZeneca', 'Pf...</td>\n",
              "      <td>Twitter for Android</td>\n",
              "      <td>0</td>\n",
              "      <td>0</td>\n",
              "      <td>False</td>\n",
              "    </tr>\n",
              "    <tr>\n",
              "      <th>3</th>\n",
              "      <td>1.337860e+18</td>\n",
              "      <td>Charles Adler</td>\n",
              "      <td>Vancouver, BC - Canada</td>\n",
              "      <td>Hosting \"CharlesAdlerTonight\" Global News Radi...</td>\n",
              "      <td>9/10/2008 11:28</td>\n",
              "      <td>49165</td>\n",
              "      <td>3933</td>\n",
              "      <td>21853</td>\n",
              "      <td>True</td>\n",
              "      <td>12/12/2020 20:23</td>\n",
              "      <td>Facts are immutable, Senator, even when you're...</td>\n",
              "      <td>NaN</td>\n",
              "      <td>Twitter Web App</td>\n",
              "      <td>446</td>\n",
              "      <td>2129</td>\n",
              "      <td>False</td>\n",
              "    </tr>\n",
              "    <tr>\n",
              "      <th>4</th>\n",
              "      <td>1.337850e+18</td>\n",
              "      <td>Citizen News Channel</td>\n",
              "      <td>NaN</td>\n",
              "      <td>Citizen News Channel bringing you an alternati...</td>\n",
              "      <td>4/23/2020 17:58</td>\n",
              "      <td>152</td>\n",
              "      <td>580</td>\n",
              "      <td>1473</td>\n",
              "      <td>False</td>\n",
              "      <td>12/12/2020 20:17</td>\n",
              "      <td>Explain to me again why we need a vaccine @Bor...</td>\n",
              "      <td>['whereareallthesickpeople', 'PfizerBioNTech']</td>\n",
              "      <td>Twitter for iPhone</td>\n",
              "      <td>0</td>\n",
              "      <td>0</td>\n",
              "      <td>False</td>\n",
              "    </tr>\n",
              "  </tbody>\n",
              "</table>\n",
              "</div>"
            ],
            "text/plain": [
              "             id             user_name  ... favorites is_retweet\n",
              "0  1.340540e+18            Rachel Roh  ...         0      False\n",
              "1  1.338160e+18           Albert Fong  ...         1      False\n",
              "2  1.337860e+18              eli�����  ...         0      False\n",
              "3  1.337860e+18         Charles Adler  ...      2129      False\n",
              "4  1.337850e+18  Citizen News Channel  ...         0      False\n",
              "\n",
              "[5 rows x 16 columns]"
            ]
          },
          "metadata": {
            "tags": []
          },
          "execution_count": 9
        }
      ]
    },
    {
      "cell_type": "code",
      "metadata": {
        "colab": {
          "base_uri": "https://localhost:8080/"
        },
        "id": "cXgoibApA20f",
        "outputId": "5521c904-dfd8-429d-fbc5-089b64acebfe"
      },
      "source": [
        "print(df.columns)\n",
        "print(df.shape)"
      ],
      "execution_count": 10,
      "outputs": [
        {
          "output_type": "stream",
          "text": [
            "Index(['id', 'user_name', 'user_location', 'user_description', 'user_created',\n",
            "       'user_followers', 'user_friends', 'user_favourites', 'user_verified',\n",
            "       'date', 'text', 'hashtags', 'source', 'retweets', 'favorites',\n",
            "       'is_retweet'],\n",
            "      dtype='object')\n",
            "(56585, 16)\n"
          ],
          "name": "stdout"
        }
      ]
    },
    {
      "cell_type": "code",
      "metadata": {
        "id": "TahgDveIX1Ta"
      },
      "source": [
        "\n",
        "df.dropna(subset=['hashtags'], how='all', inplace=True)"
      ],
      "execution_count": 11,
      "outputs": []
    },
    {
      "cell_type": "code",
      "metadata": {
        "colab": {
          "base_uri": "https://localhost:8080/"
        },
        "id": "_guJnJHGBU8u",
        "outputId": "466b37bb-f503-44a0-da92-cdd61050a6ab"
      },
      "source": [
        "df.info()"
      ],
      "execution_count": 12,
      "outputs": [
        {
          "output_type": "stream",
          "text": [
            "<class 'pandas.core.frame.DataFrame'>\n",
            "Int64Index: 44347 entries, 0 to 56584\n",
            "Data columns (total 16 columns):\n",
            " #   Column            Non-Null Count  Dtype  \n",
            "---  ------            --------------  -----  \n",
            " 0   id                44347 non-null  float64\n",
            " 1   user_name         44347 non-null  object \n",
            " 2   user_location     34137 non-null  object \n",
            " 3   user_description  41363 non-null  object \n",
            " 4   user_created      44347 non-null  object \n",
            " 5   user_followers    44347 non-null  int64  \n",
            " 6   user_friends      44347 non-null  int64  \n",
            " 7   user_favourites   44347 non-null  int64  \n",
            " 8   user_verified     44347 non-null  bool   \n",
            " 9   date              44347 non-null  object \n",
            " 10  text              44347 non-null  object \n",
            " 11  hashtags          44347 non-null  object \n",
            " 12  source            44294 non-null  object \n",
            " 13  retweets          44347 non-null  int64  \n",
            " 14  favorites         44347 non-null  int64  \n",
            " 15  is_retweet        44347 non-null  bool   \n",
            "dtypes: bool(2), float64(1), int64(5), object(8)\n",
            "memory usage: 5.2+ MB\n"
          ],
          "name": "stdout"
        }
      ]
    },
    {
      "cell_type": "code",
      "metadata": {
        "id": "vne3NTPaBa4y"
      },
      "source": [
        "df.drop(columns=['id'], inplace=True)"
      ],
      "execution_count": 13,
      "outputs": []
    },
    {
      "cell_type": "code",
      "metadata": {
        "id": "QzNNftfCBiTR"
      },
      "source": [
        "def clean_data(tex):\n",
        "    tex = re.sub(r'@\\w+', ' ', tex)\n",
        "    tex = re.sub(r'#', ' ', tex)\n",
        "    tex = re.sub(r'RT[\\s]+', ' ', tex)\n",
        "    tex = re.sub(r'https?:\\/\\/\\S+', ' ', tex)\n",
        "    tex = tex.lower()\n",
        "    \n",
        "    return tex"
      ],
      "execution_count": 14,
      "outputs": []
    },
    {
      "cell_type": "code",
      "metadata": {
        "colab": {
          "base_uri": "https://localhost:8080/",
          "height": 517
        },
        "id": "2ANeKbZDCjVO",
        "outputId": "67b0d690-dcb3-4c2f-d1f2-cdcd5f3eb729"
      },
      "source": [
        "df['text'] = df['text'].apply(clean_data)\n",
        "df.head()"
      ],
      "execution_count": 15,
      "outputs": [
        {
          "output_type": "execute_result",
          "data": {
            "text/html": [
              "<div>\n",
              "<style scoped>\n",
              "    .dataframe tbody tr th:only-of-type {\n",
              "        vertical-align: middle;\n",
              "    }\n",
              "\n",
              "    .dataframe tbody tr th {\n",
              "        vertical-align: top;\n",
              "    }\n",
              "\n",
              "    .dataframe thead th {\n",
              "        text-align: right;\n",
              "    }\n",
              "</style>\n",
              "<table border=\"1\" class=\"dataframe\">\n",
              "  <thead>\n",
              "    <tr style=\"text-align: right;\">\n",
              "      <th></th>\n",
              "      <th>user_name</th>\n",
              "      <th>user_location</th>\n",
              "      <th>user_description</th>\n",
              "      <th>user_created</th>\n",
              "      <th>user_followers</th>\n",
              "      <th>user_friends</th>\n",
              "      <th>user_favourites</th>\n",
              "      <th>user_verified</th>\n",
              "      <th>date</th>\n",
              "      <th>text</th>\n",
              "      <th>hashtags</th>\n",
              "      <th>source</th>\n",
              "      <th>retweets</th>\n",
              "      <th>favorites</th>\n",
              "      <th>is_retweet</th>\n",
              "    </tr>\n",
              "  </thead>\n",
              "  <tbody>\n",
              "    <tr>\n",
              "      <th>0</th>\n",
              "      <td>Rachel Roh</td>\n",
              "      <td>La Crescenta-Montrose, CA</td>\n",
              "      <td>Aggregator of Asian American news; scanning di...</td>\n",
              "      <td>4/8/2009 17:52</td>\n",
              "      <td>405</td>\n",
              "      <td>1692</td>\n",
              "      <td>3247</td>\n",
              "      <td>False</td>\n",
              "      <td>12/20/2020 6:06</td>\n",
              "      <td>same folks said daikon paste could treat a cyt...</td>\n",
              "      <td>['PfizerBioNTech']</td>\n",
              "      <td>Twitter for Android</td>\n",
              "      <td>0</td>\n",
              "      <td>0</td>\n",
              "      <td>False</td>\n",
              "    </tr>\n",
              "    <tr>\n",
              "      <th>2</th>\n",
              "      <td>eli�����</td>\n",
              "      <td>Your Bed</td>\n",
              "      <td>heil, hydra �☺</td>\n",
              "      <td>6/25/2020 23:30</td>\n",
              "      <td>10</td>\n",
              "      <td>88</td>\n",
              "      <td>155</td>\n",
              "      <td>False</td>\n",
              "      <td>12/12/2020 20:33</td>\n",
              "      <td>coronavirus  sputnikv  astrazeneca  pfizerbio...</td>\n",
              "      <td>['coronavirus', 'SputnikV', 'AstraZeneca', 'Pf...</td>\n",
              "      <td>Twitter for Android</td>\n",
              "      <td>0</td>\n",
              "      <td>0</td>\n",
              "      <td>False</td>\n",
              "    </tr>\n",
              "    <tr>\n",
              "      <th>4</th>\n",
              "      <td>Citizen News Channel</td>\n",
              "      <td>NaN</td>\n",
              "      <td>Citizen News Channel bringing you an alternati...</td>\n",
              "      <td>4/23/2020 17:58</td>\n",
              "      <td>152</td>\n",
              "      <td>580</td>\n",
              "      <td>1473</td>\n",
              "      <td>False</td>\n",
              "      <td>12/12/2020 20:17</td>\n",
              "      <td>explain to me again why we need a vaccine     ...</td>\n",
              "      <td>['whereareallthesickpeople', 'PfizerBioNTech']</td>\n",
              "      <td>Twitter for iPhone</td>\n",
              "      <td>0</td>\n",
              "      <td>0</td>\n",
              "      <td>False</td>\n",
              "    </tr>\n",
              "    <tr>\n",
              "      <th>6</th>\n",
              "      <td>Gunther Fehlinger</td>\n",
              "      <td>Austria, Ukraine and Kosovo</td>\n",
              "      <td>End North Stream 2 now - the pipeline of corru...</td>\n",
              "      <td>6/10/2013 17:49</td>\n",
              "      <td>2731</td>\n",
              "      <td>5001</td>\n",
              "      <td>69344</td>\n",
              "      <td>False</td>\n",
              "      <td>12/12/2020 20:06</td>\n",
              "      <td>it is a bit sad to claim the fame for success ...</td>\n",
              "      <td>['vaccination']</td>\n",
              "      <td>Twitter Web App</td>\n",
              "      <td>0</td>\n",
              "      <td>4</td>\n",
              "      <td>False</td>\n",
              "    </tr>\n",
              "    <tr>\n",
              "      <th>7</th>\n",
              "      <td>Dr.Krutika Kuppalli</td>\n",
              "      <td>NaN</td>\n",
              "      <td>ID, Global Health, VHF, Pandemic Prep, Emergin...</td>\n",
              "      <td>3/25/2019 4:14</td>\n",
              "      <td>21924</td>\n",
              "      <td>593</td>\n",
              "      <td>7815</td>\n",
              "      <td>True</td>\n",
              "      <td>12/12/2020 20:04</td>\n",
              "      <td>there have not been many bright days in 2020 b...</td>\n",
              "      <td>['BidenHarris', 'Election2020']</td>\n",
              "      <td>Twitter for iPhone</td>\n",
              "      <td>2</td>\n",
              "      <td>22</td>\n",
              "      <td>False</td>\n",
              "    </tr>\n",
              "  </tbody>\n",
              "</table>\n",
              "</div>"
            ],
            "text/plain": [
              "              user_name                user_location  ... favorites is_retweet\n",
              "0            Rachel Roh    La Crescenta-Montrose, CA  ...         0      False\n",
              "2              eli�����                     Your Bed  ...         0      False\n",
              "4  Citizen News Channel                          NaN  ...         0      False\n",
              "6     Gunther Fehlinger  Austria, Ukraine and Kosovo  ...         4      False\n",
              "7   Dr.Krutika Kuppalli                          NaN  ...        22      False\n",
              "\n",
              "[5 rows x 15 columns]"
            ]
          },
          "metadata": {
            "tags": []
          },
          "execution_count": 15
        }
      ]
    },
    {
      "cell_type": "code",
      "metadata": {
        "colab": {
          "base_uri": "https://localhost:8080/",
          "height": 1000
        },
        "id": "Db98Gfjck8uZ",
        "outputId": "7683dd14-07c5-4ef8-a965-9232b0a4a30d"
      },
      "source": [
        "df['date'] = pd.to_datetime(df['date']).dt.date\n",
        "df"
      ],
      "execution_count": 17,
      "outputs": [
        {
          "output_type": "execute_result",
          "data": {
            "text/html": [
              "<div>\n",
              "<style scoped>\n",
              "    .dataframe tbody tr th:only-of-type {\n",
              "        vertical-align: middle;\n",
              "    }\n",
              "\n",
              "    .dataframe tbody tr th {\n",
              "        vertical-align: top;\n",
              "    }\n",
              "\n",
              "    .dataframe thead th {\n",
              "        text-align: right;\n",
              "    }\n",
              "</style>\n",
              "<table border=\"1\" class=\"dataframe\">\n",
              "  <thead>\n",
              "    <tr style=\"text-align: right;\">\n",
              "      <th></th>\n",
              "      <th>user_name</th>\n",
              "      <th>user_location</th>\n",
              "      <th>user_description</th>\n",
              "      <th>user_created</th>\n",
              "      <th>user_followers</th>\n",
              "      <th>user_friends</th>\n",
              "      <th>user_favourites</th>\n",
              "      <th>user_verified</th>\n",
              "      <th>date</th>\n",
              "      <th>text</th>\n",
              "      <th>hashtags</th>\n",
              "      <th>source</th>\n",
              "      <th>retweets</th>\n",
              "      <th>favorites</th>\n",
              "      <th>is_retweet</th>\n",
              "    </tr>\n",
              "  </thead>\n",
              "  <tbody>\n",
              "    <tr>\n",
              "      <th>0</th>\n",
              "      <td>Rachel Roh</td>\n",
              "      <td>La Crescenta-Montrose, CA</td>\n",
              "      <td>Aggregator of Asian American news; scanning di...</td>\n",
              "      <td>4/8/2009 17:52</td>\n",
              "      <td>405</td>\n",
              "      <td>1692</td>\n",
              "      <td>3247</td>\n",
              "      <td>False</td>\n",
              "      <td>2020-12-20</td>\n",
              "      <td>same folks said daikon paste could treat a cyt...</td>\n",
              "      <td>['PfizerBioNTech']</td>\n",
              "      <td>Twitter for Android</td>\n",
              "      <td>0</td>\n",
              "      <td>0</td>\n",
              "      <td>False</td>\n",
              "    </tr>\n",
              "    <tr>\n",
              "      <th>2</th>\n",
              "      <td>eli�����</td>\n",
              "      <td>Your Bed</td>\n",
              "      <td>heil, hydra �☺</td>\n",
              "      <td>6/25/2020 23:30</td>\n",
              "      <td>10</td>\n",
              "      <td>88</td>\n",
              "      <td>155</td>\n",
              "      <td>False</td>\n",
              "      <td>2020-12-12</td>\n",
              "      <td>coronavirus  sputnikv  astrazeneca  pfizerbio...</td>\n",
              "      <td>['coronavirus', 'SputnikV', 'AstraZeneca', 'Pf...</td>\n",
              "      <td>Twitter for Android</td>\n",
              "      <td>0</td>\n",
              "      <td>0</td>\n",
              "      <td>False</td>\n",
              "    </tr>\n",
              "    <tr>\n",
              "      <th>4</th>\n",
              "      <td>Citizen News Channel</td>\n",
              "      <td>NaN</td>\n",
              "      <td>Citizen News Channel bringing you an alternati...</td>\n",
              "      <td>4/23/2020 17:58</td>\n",
              "      <td>152</td>\n",
              "      <td>580</td>\n",
              "      <td>1473</td>\n",
              "      <td>False</td>\n",
              "      <td>2020-12-12</td>\n",
              "      <td>explain to me again why we need a vaccine     ...</td>\n",
              "      <td>['whereareallthesickpeople', 'PfizerBioNTech']</td>\n",
              "      <td>Twitter for iPhone</td>\n",
              "      <td>0</td>\n",
              "      <td>0</td>\n",
              "      <td>False</td>\n",
              "    </tr>\n",
              "    <tr>\n",
              "      <th>6</th>\n",
              "      <td>Gunther Fehlinger</td>\n",
              "      <td>Austria, Ukraine and Kosovo</td>\n",
              "      <td>End North Stream 2 now - the pipeline of corru...</td>\n",
              "      <td>6/10/2013 17:49</td>\n",
              "      <td>2731</td>\n",
              "      <td>5001</td>\n",
              "      <td>69344</td>\n",
              "      <td>False</td>\n",
              "      <td>2020-12-12</td>\n",
              "      <td>it is a bit sad to claim the fame for success ...</td>\n",
              "      <td>['vaccination']</td>\n",
              "      <td>Twitter Web App</td>\n",
              "      <td>0</td>\n",
              "      <td>4</td>\n",
              "      <td>False</td>\n",
              "    </tr>\n",
              "    <tr>\n",
              "      <th>7</th>\n",
              "      <td>Dr.Krutika Kuppalli</td>\n",
              "      <td>NaN</td>\n",
              "      <td>ID, Global Health, VHF, Pandemic Prep, Emergin...</td>\n",
              "      <td>3/25/2019 4:14</td>\n",
              "      <td>21924</td>\n",
              "      <td>593</td>\n",
              "      <td>7815</td>\n",
              "      <td>True</td>\n",
              "      <td>2020-12-12</td>\n",
              "      <td>there have not been many bright days in 2020 b...</td>\n",
              "      <td>['BidenHarris', 'Election2020']</td>\n",
              "      <td>Twitter for iPhone</td>\n",
              "      <td>2</td>\n",
              "      <td>22</td>\n",
              "      <td>False</td>\n",
              "    </tr>\n",
              "    <tr>\n",
              "      <th>...</th>\n",
              "      <td>...</td>\n",
              "      <td>...</td>\n",
              "      <td>...</td>\n",
              "      <td>...</td>\n",
              "      <td>...</td>\n",
              "      <td>...</td>\n",
              "      <td>...</td>\n",
              "      <td>...</td>\n",
              "      <td>...</td>\n",
              "      <td>...</td>\n",
              "      <td>...</td>\n",
              "      <td>...</td>\n",
              "      <td>...</td>\n",
              "      <td>...</td>\n",
              "      <td>...</td>\n",
              "    </tr>\n",
              "    <tr>\n",
              "      <th>56580</th>\n",
              "      <td>CNBC-TV18</td>\n",
              "      <td>India</td>\n",
              "      <td>The CNBC-TV18 news ticker on Twitter. The news...</td>\n",
              "      <td>6/5/2009 6:48</td>\n",
              "      <td>990551</td>\n",
              "      <td>523</td>\n",
              "      <td>206</td>\n",
              "      <td>True</td>\n",
              "      <td>2021-04-05</td>\n",
              "      <td>russian direct investment fund and panacea bio...</td>\n",
              "      <td>['SputnikV']</td>\n",
              "      <td>Twitter Web App</td>\n",
              "      <td>3</td>\n",
              "      <td>60</td>\n",
              "      <td>False</td>\n",
              "    </tr>\n",
              "    <tr>\n",
              "      <th>56581</th>\n",
              "      <td>Mandrake</td>\n",
              "      <td>NaN</td>\n",
              "      <td>OSINT from hell. #OSINT #liberitarian not allw...</td>\n",
              "      <td>3/17/2015 13:41</td>\n",
              "      <td>49</td>\n",
              "      <td>418</td>\n",
              "      <td>2898</td>\n",
              "      <td>False</td>\n",
              "      <td>2021-04-05</td>\n",
              "      <td>[bad joke] help! can i apply for asylum in the...</td>\n",
              "      <td>['COVID19de']</td>\n",
              "      <td>Twitter Web App</td>\n",
              "      <td>0</td>\n",
              "      <td>0</td>\n",
              "      <td>False</td>\n",
              "    </tr>\n",
              "    <tr>\n",
              "      <th>56582</th>\n",
              "      <td>Ahmad Ismail</td>\n",
              "      <td>France</td>\n",
              "      <td>Research Consultant: Political-Economy Analysi...</td>\n",
              "      <td>5/31/2014 12:05</td>\n",
              "      <td>307</td>\n",
              "      <td>1252</td>\n",
              "      <td>1629</td>\n",
              "      <td>False</td>\n",
              "      <td>2021-04-05</td>\n",
              "      <td>russia's     rdif signed a contract with  indi...</td>\n",
              "      <td>['RDIF', 'India', 'Panacea', 'SputnikV']</td>\n",
              "      <td>Twitter for Android</td>\n",
              "      <td>6</td>\n",
              "      <td>11</td>\n",
              "      <td>False</td>\n",
              "    </tr>\n",
              "    <tr>\n",
              "      <th>56583</th>\n",
              "      <td>FC Zenit in English✨</td>\n",
              "      <td>Saint Petersburg, Russia</td>\n",
              "      <td>The official Twitter of FC Zenit in English! �...</td>\n",
              "      <td>7/31/2012 9:50</td>\n",
              "      <td>55125</td>\n",
              "      <td>846</td>\n",
              "      <td>33562</td>\n",
              "      <td>True</td>\n",
              "      <td>2021-04-05</td>\n",
              "      <td>it's matchday and  sputnikv covid-19 vaccinati...</td>\n",
              "      <td>['SputnikV']</td>\n",
              "      <td>Twitter Web App</td>\n",
              "      <td>11</td>\n",
              "      <td>47</td>\n",
              "      <td>False</td>\n",
              "    </tr>\n",
              "    <tr>\n",
              "      <th>56584</th>\n",
              "      <td>Sputnik V</td>\n",
              "      <td>Moscow, Russia</td>\n",
              "      <td>Sputnik V is the world’s first registered COVI...</td>\n",
              "      <td>8/11/2020 9:12</td>\n",
              "      <td>292006</td>\n",
              "      <td>142</td>\n",
              "      <td>897</td>\n",
              "      <td>True</td>\n",
              "      <td>2021-04-05</td>\n",
              "      <td>rdif and panacea biotec agree to produce 100 m...</td>\n",
              "      <td>['SputnikV']</td>\n",
              "      <td>Twitter Web App</td>\n",
              "      <td>71</td>\n",
              "      <td>344</td>\n",
              "      <td>False</td>\n",
              "    </tr>\n",
              "  </tbody>\n",
              "</table>\n",
              "<p>44347 rows × 15 columns</p>\n",
              "</div>"
            ],
            "text/plain": [
              "                  user_name                user_location  ... favorites is_retweet\n",
              "0                Rachel Roh    La Crescenta-Montrose, CA  ...         0      False\n",
              "2                  eli�����                     Your Bed  ...         0      False\n",
              "4      Citizen News Channel                          NaN  ...         0      False\n",
              "6         Gunther Fehlinger  Austria, Ukraine and Kosovo  ...         4      False\n",
              "7       Dr.Krutika Kuppalli                          NaN  ...        22      False\n",
              "...                     ...                          ...  ...       ...        ...\n",
              "56580             CNBC-TV18                        India  ...        60      False\n",
              "56581              Mandrake                          NaN  ...         0      False\n",
              "56582          Ahmad Ismail                       France  ...        11      False\n",
              "56583  FC Zenit in English✨     Saint Petersburg, Russia  ...        47      False\n",
              "56584             Sputnik V              Moscow, Russia   ...       344      False\n",
              "\n",
              "[44347 rows x 15 columns]"
            ]
          },
          "metadata": {
            "tags": []
          },
          "execution_count": 17
        }
      ]
    },
    {
      "cell_type": "code",
      "metadata": {
        "colab": {
          "base_uri": "https://localhost:8080/",
          "height": 294
        },
        "id": "q4l1YhpklHQf",
        "outputId": "e06a9334-cf10-4b5c-b5af-94504ba1a390"
      },
      "source": [
        "df.describe()"
      ],
      "execution_count": 18,
      "outputs": [
        {
          "output_type": "execute_result",
          "data": {
            "text/html": [
              "<div>\n",
              "<style scoped>\n",
              "    .dataframe tbody tr th:only-of-type {\n",
              "        vertical-align: middle;\n",
              "    }\n",
              "\n",
              "    .dataframe tbody tr th {\n",
              "        vertical-align: top;\n",
              "    }\n",
              "\n",
              "    .dataframe thead th {\n",
              "        text-align: right;\n",
              "    }\n",
              "</style>\n",
              "<table border=\"1\" class=\"dataframe\">\n",
              "  <thead>\n",
              "    <tr style=\"text-align: right;\">\n",
              "      <th></th>\n",
              "      <th>user_followers</th>\n",
              "      <th>user_friends</th>\n",
              "      <th>user_favourites</th>\n",
              "      <th>retweets</th>\n",
              "      <th>favorites</th>\n",
              "    </tr>\n",
              "  </thead>\n",
              "  <tbody>\n",
              "    <tr>\n",
              "      <th>count</th>\n",
              "      <td>4.434700e+04</td>\n",
              "      <td>44347.000000</td>\n",
              "      <td>4.434700e+04</td>\n",
              "      <td>44347.000000</td>\n",
              "      <td>44347.000000</td>\n",
              "    </tr>\n",
              "    <tr>\n",
              "      <th>mean</th>\n",
              "      <td>1.186667e+05</td>\n",
              "      <td>1359.562721</td>\n",
              "      <td>1.618463e+04</td>\n",
              "      <td>3.225156</td>\n",
              "      <td>14.401357</td>\n",
              "    </tr>\n",
              "    <tr>\n",
              "      <th>std</th>\n",
              "      <td>9.216525e+05</td>\n",
              "      <td>6349.037669</td>\n",
              "      <td>4.575968e+04</td>\n",
              "      <td>49.748353</td>\n",
              "      <td>207.376765</td>\n",
              "    </tr>\n",
              "    <tr>\n",
              "      <th>min</th>\n",
              "      <td>0.000000e+00</td>\n",
              "      <td>0.000000</td>\n",
              "      <td>0.000000e+00</td>\n",
              "      <td>0.000000</td>\n",
              "      <td>0.000000</td>\n",
              "    </tr>\n",
              "    <tr>\n",
              "      <th>25%</th>\n",
              "      <td>1.290000e+02</td>\n",
              "      <td>148.000000</td>\n",
              "      <td>3.720000e+02</td>\n",
              "      <td>0.000000</td>\n",
              "      <td>0.000000</td>\n",
              "    </tr>\n",
              "    <tr>\n",
              "      <th>50%</th>\n",
              "      <td>5.920000e+02</td>\n",
              "      <td>428.000000</td>\n",
              "      <td>2.345000e+03</td>\n",
              "      <td>0.000000</td>\n",
              "      <td>1.000000</td>\n",
              "    </tr>\n",
              "    <tr>\n",
              "      <th>75%</th>\n",
              "      <td>2.924500e+03</td>\n",
              "      <td>1225.500000</td>\n",
              "      <td>1.193500e+04</td>\n",
              "      <td>1.000000</td>\n",
              "      <td>4.000000</td>\n",
              "    </tr>\n",
              "    <tr>\n",
              "      <th>max</th>\n",
              "      <td>1.497539e+07</td>\n",
              "      <td>516808.000000</td>\n",
              "      <td>1.220826e+06</td>\n",
              "      <td>7695.000000</td>\n",
              "      <td>22815.000000</td>\n",
              "    </tr>\n",
              "  </tbody>\n",
              "</table>\n",
              "</div>"
            ],
            "text/plain": [
              "       user_followers   user_friends  ...      retweets     favorites\n",
              "count    4.434700e+04   44347.000000  ...  44347.000000  44347.000000\n",
              "mean     1.186667e+05    1359.562721  ...      3.225156     14.401357\n",
              "std      9.216525e+05    6349.037669  ...     49.748353    207.376765\n",
              "min      0.000000e+00       0.000000  ...      0.000000      0.000000\n",
              "25%      1.290000e+02     148.000000  ...      0.000000      0.000000\n",
              "50%      5.920000e+02     428.000000  ...      0.000000      1.000000\n",
              "75%      2.924500e+03    1225.500000  ...      1.000000      4.000000\n",
              "max      1.497539e+07  516808.000000  ...   7695.000000  22815.000000\n",
              "\n",
              "[8 rows x 5 columns]"
            ]
          },
          "metadata": {
            "tags": []
          },
          "execution_count": 18
        }
      ]
    },
    {
      "cell_type": "code",
      "metadata": {
        "id": "SUVg-BTQoSGx"
      },
      "source": [
        "df.drop('is_retweet',\n",
        "  axis='columns', inplace=True)"
      ],
      "execution_count": 19,
      "outputs": []
    },
    {
      "cell_type": "code",
      "metadata": {
        "colab": {
          "base_uri": "https://localhost:8080/",
          "height": 705
        },
        "id": "R8GnJcMblQp9",
        "outputId": "7c50dc5a-2e75-49eb-f47c-ec2ec72a2736"
      },
      "source": [
        "fig=plt.figure(figsize=(14,12))\n",
        "sns.heatmap(df.corr(),annot=True)\n",
        "plt.show()\n",
        "fig.savefig(\"CovidData_heatmap.png\")"
      ],
      "execution_count": 20,
      "outputs": [
        {
          "output_type": "display_data",
          "data": {
            "image/png": "[encoded data removed]",
            "text/plain": [
              "<Figure size 1008x864 with 2 Axes>"
            ]
          },
          "metadata": {
            "tags": [],
            "needs_background": "light"
          }
        }
      ]
    },
    {
      "cell_type": "code",
      "metadata": {
        "colab": {
          "base_uri": "https://localhost:8080/",
          "height": 233
        },
        "id": "iggDk1o8oCk5",
        "outputId": "0be2d98e-4401-4789-9fdd-349177ee01b8"
      },
      "source": [
        "df.corr(method='pearson')"
      ],
      "execution_count": 21,
      "outputs": [
        {
          "output_type": "execute_result",
          "data": {
            "text/html": [
              "<div>\n",
              "<style scoped>\n",
              "    .dataframe tbody tr th:only-of-type {\n",
              "        vertical-align: middle;\n",
              "    }\n",
              "\n",
              "    .dataframe tbody tr th {\n",
              "        vertical-align: top;\n",
              "    }\n",
              "\n",
              "    .dataframe thead th {\n",
              "        text-align: right;\n",
              "    }\n",
              "</style>\n",
              "<table border=\"1\" class=\"dataframe\">\n",
              "  <thead>\n",
              "    <tr style=\"text-align: right;\">\n",
              "      <th></th>\n",
              "      <th>user_followers</th>\n",
              "      <th>user_friends</th>\n",
              "      <th>user_favourites</th>\n",
              "      <th>user_verified</th>\n",
              "      <th>retweets</th>\n",
              "      <th>favorites</th>\n",
              "    </tr>\n",
              "  </thead>\n",
              "  <tbody>\n",
              "    <tr>\n",
              "      <th>user_followers</th>\n",
              "      <td>1.000000</td>\n",
              "      <td>0.000606</td>\n",
              "      <td>-0.039310</td>\n",
              "      <td>0.345528</td>\n",
              "      <td>0.044020</td>\n",
              "      <td>0.051563</td>\n",
              "    </tr>\n",
              "    <tr>\n",
              "      <th>user_friends</th>\n",
              "      <td>0.000606</td>\n",
              "      <td>1.000000</td>\n",
              "      <td>0.158133</td>\n",
              "      <td>-0.014834</td>\n",
              "      <td>0.001598</td>\n",
              "      <td>0.002885</td>\n",
              "    </tr>\n",
              "    <tr>\n",
              "      <th>user_favourites</th>\n",
              "      <td>-0.039310</td>\n",
              "      <td>0.158133</td>\n",
              "      <td>1.000000</td>\n",
              "      <td>-0.085908</td>\n",
              "      <td>0.001035</td>\n",
              "      <td>0.009941</td>\n",
              "    </tr>\n",
              "    <tr>\n",
              "      <th>user_verified</th>\n",
              "      <td>0.345528</td>\n",
              "      <td>-0.014834</td>\n",
              "      <td>-0.085908</td>\n",
              "      <td>1.000000</td>\n",
              "      <td>0.079702</td>\n",
              "      <td>0.087330</td>\n",
              "    </tr>\n",
              "    <tr>\n",
              "      <th>retweets</th>\n",
              "      <td>0.044020</td>\n",
              "      <td>0.001598</td>\n",
              "      <td>0.001035</td>\n",
              "      <td>0.079702</td>\n",
              "      <td>1.000000</td>\n",
              "      <td>0.821256</td>\n",
              "    </tr>\n",
              "    <tr>\n",
              "      <th>favorites</th>\n",
              "      <td>0.051563</td>\n",
              "      <td>0.002885</td>\n",
              "      <td>0.009941</td>\n",
              "      <td>0.087330</td>\n",
              "      <td>0.821256</td>\n",
              "      <td>1.000000</td>\n",
              "    </tr>\n",
              "  </tbody>\n",
              "</table>\n",
              "</div>"
            ],
            "text/plain": [
              "                 user_followers  user_friends  ...  retweets  favorites\n",
              "user_followers         1.000000      0.000606  ...  0.044020   0.051563\n",
              "user_friends           0.000606      1.000000  ...  0.001598   0.002885\n",
              "user_favourites       -0.039310      0.158133  ...  0.001035   0.009941\n",
              "user_verified          0.345528     -0.014834  ...  0.079702   0.087330\n",
              "retweets               0.044020      0.001598  ...  1.000000   0.821256\n",
              "favorites              0.051563      0.002885  ...  0.821256   1.000000\n",
              "\n",
              "[6 rows x 6 columns]"
            ]
          },
          "metadata": {
            "tags": []
          },
          "execution_count": 21
        }
      ]
    },
    {
      "cell_type": "code",
      "metadata": {
        "colab": {
          "base_uri": "https://localhost:8080/",
          "height": 365
        },
        "id": "_XbvKfZApK5e",
        "outputId": "c604aa10-a9c5-43b8-8b08-bfe35a8904f5"
      },
      "source": [
        "#which platform mostly people used for tweets\n",
        "\n",
        "df['source'].value_counts().head(n=5).plot.bar()"
      ],
      "execution_count": 22,
      "outputs": [
        {
          "output_type": "execute_result",
          "data": {
            "text/plain": [
              "<matplotlib.axes._subplots.AxesSubplot at 0x7fb46243af90>"
            ]
          },
          "metadata": {
            "tags": []
          },
          "execution_count": 22
        },
        {
          "output_type": "display_data",
          "data": {
            "image/png": "[encoded data removed]",
            "text/plain": [
              "<Figure size 432x288 with 1 Axes>"
            ]
          },
          "metadata": {
            "tags": [],
            "needs_background": "light"
          }
        }
      ]
    },
    {
      "cell_type": "code",
      "metadata": {
        "colab": {
          "base_uri": "https://localhost:8080/",
          "height": 433
        },
        "id": "ZPnaDTL6rMO_",
        "outputId": "4f36ddde-49db-4e52-b60d-b8765c4bf0f1"
      },
      "source": [
        "#From which location the people tweet the most\n",
        "df['user_location'].value_counts().head(n=10).plot.bar()"
      ],
      "execution_count": 23,
      "outputs": [
        {
          "output_type": "execute_result",
          "data": {
            "text/plain": [
              "<matplotlib.axes._subplots.AxesSubplot at 0x7fb46240cf10>"
            ]
          },
          "metadata": {
            "tags": []
          },
          "execution_count": 23
        },
        {
          "output_type": "display_data",
          "data": {
            "image/png": "[encoded data removed]",
            "text/plain": [
              "<Figure size 432x288 with 1 Axes>"
            ]
          },
          "metadata": {
            "tags": [],
            "needs_background": "light"
          }
        }
      ]
    },
    {
      "cell_type": "code",
      "metadata": {
        "colab": {
          "base_uri": "https://localhost:8080/",
          "height": 581
        },
        "id": "izSJJmr5rx9J",
        "outputId": "9f17572b-bc8d-4b8b-ec65-e26fbb9fc1d4"
      },
      "source": [
        "# what are the top 10 most retweeted tweets\n",
        "pd.set_option('display.max_colwidth', 400)\n",
        "df.sort_values(by='retweets', ascending=False)[['text', 'date', 'user_name', 'user_location', 'hashtags', 'favorites', 'retweets']].head(n=10)"
      ],
      "execution_count": 24,
      "outputs": [
        {
          "output_type": "execute_result",
          "data": {
            "text/html": [
              "<div>\n",
              "<style scoped>\n",
              "    .dataframe tbody tr th:only-of-type {\n",
              "        vertical-align: middle;\n",
              "    }\n",
              "\n",
              "    .dataframe tbody tr th {\n",
              "        vertical-align: top;\n",
              "    }\n",
              "\n",
              "    .dataframe thead th {\n",
              "        text-align: right;\n",
              "    }\n",
              "</style>\n",
              "<table border=\"1\" class=\"dataframe\">\n",
              "  <thead>\n",
              "    <tr style=\"text-align: right;\">\n",
              "      <th></th>\n",
              "      <th>text</th>\n",
              "      <th>date</th>\n",
              "      <th>user_name</th>\n",
              "      <th>user_location</th>\n",
              "      <th>hashtags</th>\n",
              "      <th>favorites</th>\n",
              "      <th>retweets</th>\n",
              "    </tr>\n",
              "  </thead>\n",
              "  <tbody>\n",
              "    <tr>\n",
              "      <th>46053</th>\n",
              "      <td>why we need two doses of mrna vaccine �  vaccines  covid19  pfizer  moderna  vaccinessavelives  vaccinated</td>\n",
              "      <td>2021-04-01</td>\n",
              "      <td>hotvickkrishna</td>\n",
              "      <td>Manhattan, NY</td>\n",
              "      <td>['vaccines', 'COVID19', 'Pfizer', 'moderna', 'VaccinesSaveLives', 'vaccinated']</td>\n",
              "      <td>19622</td>\n",
              "      <td>7695</td>\n",
              "    </tr>\n",
              "    <tr>\n",
              "      <th>17118</th>\n",
              "      <td>got my jab. for the curious, it was  covaxin. \\n\\nfelt secure, will travel safely.</td>\n",
              "      <td>2021-03-01</td>\n",
              "      <td>Dr. S. Jaishankar</td>\n",
              "      <td>New Delhi, India</td>\n",
              "      <td>['Covaxin']</td>\n",
              "      <td>22815</td>\n",
              "      <td>2360</td>\n",
              "    </tr>\n",
              "    <tr>\n",
              "      <th>7126</th>\n",
              "      <td>new research published in microbiology &amp;amp; infectious diseases, immunologist j. bart classen warns  mrna technology u…</td>\n",
              "      <td>2021-02-10</td>\n",
              "      <td>Robert F. Kennedy Jr</td>\n",
              "      <td>Los Angles, California</td>\n",
              "      <td>['mRNA']</td>\n",
              "      <td>3090</td>\n",
              "      <td>2247</td>\n",
              "    </tr>\n",
              "    <tr>\n",
              "      <th>24268</th>\n",
              "      <td>covaxin �� , made by hyderabad-based bharat biotech international limited, has been declared \"safe, immunogenic wi…</td>\n",
              "      <td>2021-03-09</td>\n",
              "      <td>Megh Updates �</td>\n",
              "      <td>Turn on Notification �</td>\n",
              "      <td>['Covaxin']</td>\n",
              "      <td>9458</td>\n",
              "      <td>2095</td>\n",
              "    </tr>\n",
              "    <tr>\n",
              "      <th>32826</th>\n",
              "      <td>a batch of fake sputnik v vaccines was confiscated in mexico. see this comparison of the genuine  sputnikv with a f…</td>\n",
              "      <td>2021-03-18</td>\n",
              "      <td>Sputnik V</td>\n",
              "      <td>Moscow, Russia</td>\n",
              "      <td>['SputnikV']</td>\n",
              "      <td>3473</td>\n",
              "      <td>1980</td>\n",
              "    </tr>\n",
              "    <tr>\n",
              "      <th>17543</th>\n",
              "      <td>prime minister narendra modi choose early morning time to take  covaxin . no traffic was stopped . traveled normall…</td>\n",
              "      <td>2021-03-01</td>\n",
              "      <td>Megh Updates �</td>\n",
              "      <td>Turn on Notification �</td>\n",
              "      <td>['covaxin']</td>\n",
              "      <td>8153</td>\n",
              "      <td>1980</td>\n",
              "    </tr>\n",
              "    <tr>\n",
              "      <th>23715</th>\n",
              "      <td>this is not a queue for a covid vaccine\\nthis is a queue at a food bank today in the uk.\\n coronavirus  oxfordvaccine…</td>\n",
              "      <td>2021-03-08</td>\n",
              "      <td>Afshin Rattansi</td>\n",
              "      <td>London</td>\n",
              "      <td>['coronavirus', 'oxfordvaccine']</td>\n",
              "      <td>1713</td>\n",
              "      <td>1515</td>\n",
              "    </tr>\n",
              "    <tr>\n",
              "      <th>55201</th>\n",
              "      <td>breaking news :   sputnikv approved for emergency use in india.</td>\n",
              "      <td>2021-04-12</td>\n",
              "      <td>Sudhir Chaudhary</td>\n",
              "      <td>ÜT: 28.562395,77.33867</td>\n",
              "      <td>['SputnikV']</td>\n",
              "      <td>12013</td>\n",
              "      <td>1361</td>\n",
              "    </tr>\n",
              "    <tr>\n",
              "      <th>47094</th>\n",
              "      <td>the gamaleya institute: we are sad to hear this.  sputnikv is 91.6% effective against infection and 100%…</td>\n",
              "      <td>2021-04-03</td>\n",
              "      <td>Sputnik V</td>\n",
              "      <td>Moscow, Russia</td>\n",
              "      <td>['SputnikV']</td>\n",
              "      <td>6211</td>\n",
              "      <td>1299</td>\n",
              "    </tr>\n",
              "    <tr>\n",
              "      <th>54796</th>\n",
              "      <td>sputnikv vaccine has been approved for emergency use in india after bridge study by reddy labs . all who are advoc…</td>\n",
              "      <td>2021-04-12</td>\n",
              "      <td>B L Santhosh</td>\n",
              "      <td>New Delhi, India</td>\n",
              "      <td>['SputnikV']</td>\n",
              "      <td>4588</td>\n",
              "      <td>1124</td>\n",
              "    </tr>\n",
              "  </tbody>\n",
              "</table>\n",
              "</div>"
            ],
            "text/plain": [
              "                                                                                                                             text  ... retweets\n",
              "46053                why we need two doses of mrna vaccine �  vaccines  covid19  pfizer  moderna  vaccinessavelives  vaccinated    ...     7695\n",
              "17118                                        got my jab. for the curious, it was  covaxin. \\n\\nfelt secure, will travel safely.    ...     2360\n",
              "7126   new research published in microbiology &amp; infectious diseases, immunologist j. bart classen warns  mrna technology u…    ...     2247\n",
              "24268       covaxin �� , made by hyderabad-based bharat biotech international limited, has been declared \"safe, immunogenic wi…    ...     2095\n",
              "32826      a batch of fake sputnik v vaccines was confiscated in mexico. see this comparison of the genuine  sputnikv with a f…    ...     1980\n",
              "17543      prime minister narendra modi choose early morning time to take  covaxin . no traffic was stopped . traveled normall…    ...     1980\n",
              "23715    this is not a queue for a covid vaccine\\nthis is a queue at a food bank today in the uk.\\n coronavirus  oxfordvaccine…    ...     1515\n",
              "55201                                                             breaking news :   sputnikv approved for emergency use in india.  ...     1361\n",
              "47094                 the gamaleya institute: we are sad to hear this.  sputnikv is 91.6% effective against infection and 100%…    ...     1299\n",
              "54796       sputnikv vaccine has been approved for emergency use in india after bridge study by reddy labs . all who are advoc…    ...     1124\n",
              "\n",
              "[10 rows x 7 columns]"
            ]
          },
          "metadata": {
            "tags": []
          },
          "execution_count": 24
        }
      ]
    },
    {
      "cell_type": "code",
      "metadata": {
        "colab": {
          "base_uri": "https://localhost:8080/",
          "height": 829
        },
        "id": "7FSvRXOHsglk",
        "outputId": "3b55ddb5-3f21-4761-98ca-16d55ebe264f"
      },
      "source": [
        "#Sentiment analysis of Covid-19 vaccine tweets.we will use text blob API for finding the polarity and subjectivity.\n",
        "df['polarity'] = df['text'].apply(lambda x: TextBlob(x).sentiment.polarity)\n",
        "df['subjectivity'] = df['text'].apply(lambda x: TextBlob(x).sentiment.subjectivity)\n",
        "df.head()\n",
        "\n"
      ],
      "execution_count": 25,
      "outputs": [
        {
          "output_type": "execute_result",
          "data": {
            "text/html": [
              "<div>\n",
              "<style scoped>\n",
              "    .dataframe tbody tr th:only-of-type {\n",
              "        vertical-align: middle;\n",
              "    }\n",
              "\n",
              "    .dataframe tbody tr th {\n",
              "        vertical-align: top;\n",
              "    }\n",
              "\n",
              "    .dataframe thead th {\n",
              "        text-align: right;\n",
              "    }\n",
              "</style>\n",
              "<table border=\"1\" class=\"dataframe\">\n",
              "  <thead>\n",
              "    <tr style=\"text-align: right;\">\n",
              "      <th></th>\n",
              "      <th>user_name</th>\n",
              "      <th>user_location</th>\n",
              "      <th>user_description</th>\n",
              "      <th>user_created</th>\n",
              "      <th>user_followers</th>\n",
              "      <th>user_friends</th>\n",
              "      <th>user_favourites</th>\n",
              "      <th>user_verified</th>\n",
              "      <th>date</th>\n",
              "      <th>text</th>\n",
              "      <th>hashtags</th>\n",
              "      <th>source</th>\n",
              "      <th>retweets</th>\n",
              "      <th>favorites</th>\n",
              "      <th>polarity</th>\n",
              "      <th>subjectivity</th>\n",
              "    </tr>\n",
              "  </thead>\n",
              "  <tbody>\n",
              "    <tr>\n",
              "      <th>0</th>\n",
              "      <td>Rachel Roh</td>\n",
              "      <td>La Crescenta-Montrose, CA</td>\n",
              "      <td>Aggregator of Asian American news; scanning diverse sources 24/7/365. RT's, Follows and 'Likes' will fuel me �‍�</td>\n",
              "      <td>4/8/2009 17:52</td>\n",
              "      <td>405</td>\n",
              "      <td>1692</td>\n",
              "      <td>3247</td>\n",
              "      <td>False</td>\n",
              "      <td>2020-12-20</td>\n",
              "      <td>same folks said daikon paste could treat a cytokine storm  pfizerbiontech</td>\n",
              "      <td>['PfizerBioNTech']</td>\n",
              "      <td>Twitter for Android</td>\n",
              "      <td>0</td>\n",
              "      <td>0</td>\n",
              "      <td>0.000</td>\n",
              "      <td>0.125000</td>\n",
              "    </tr>\n",
              "    <tr>\n",
              "      <th>2</th>\n",
              "      <td>eli�����</td>\n",
              "      <td>Your Bed</td>\n",
              "      <td>heil, hydra �☺</td>\n",
              "      <td>6/25/2020 23:30</td>\n",
              "      <td>10</td>\n",
              "      <td>88</td>\n",
              "      <td>155</td>\n",
              "      <td>False</td>\n",
              "      <td>2020-12-12</td>\n",
              "      <td>coronavirus  sputnikv  astrazeneca  pfizerbiontech  moderna  covid_19 russian vaccine is created to last 2-4 years…</td>\n",
              "      <td>['coronavirus', 'SputnikV', 'AstraZeneca', 'PfizerBioNTech', 'Moderna', 'Covid_19']</td>\n",
              "      <td>Twitter for Android</td>\n",
              "      <td>0</td>\n",
              "      <td>0</td>\n",
              "      <td>0.000</td>\n",
              "      <td>0.033333</td>\n",
              "    </tr>\n",
              "    <tr>\n",
              "      <th>4</th>\n",
              "      <td>Citizen News Channel</td>\n",
              "      <td>NaN</td>\n",
              "      <td>Citizen News Channel bringing you an alternative news source from citizen journalists that haven't sold out. Real news &amp; real views</td>\n",
              "      <td>4/23/2020 17:58</td>\n",
              "      <td>152</td>\n",
              "      <td>580</td>\n",
              "      <td>1473</td>\n",
              "      <td>False</td>\n",
              "      <td>2020-12-12</td>\n",
              "      <td>explain to me again why we need a vaccine      whereareallthesickpeople  pfizerbiontech…</td>\n",
              "      <td>['whereareallthesickpeople', 'PfizerBioNTech']</td>\n",
              "      <td>Twitter for iPhone</td>\n",
              "      <td>0</td>\n",
              "      <td>0</td>\n",
              "      <td>0.000</td>\n",
              "      <td>0.000000</td>\n",
              "    </tr>\n",
              "    <tr>\n",
              "      <th>6</th>\n",
              "      <td>Gunther Fehlinger</td>\n",
              "      <td>Austria, Ukraine and Kosovo</td>\n",
              "      <td>End North Stream 2 now - the pipeline of corruption, funding Russias war against Ukraine,Georgia, Syria and political intervention in USA and EU must be stopped</td>\n",
              "      <td>6/10/2013 17:49</td>\n",
              "      <td>2731</td>\n",
              "      <td>5001</td>\n",
              "      <td>69344</td>\n",
              "      <td>False</td>\n",
              "      <td>2020-12-12</td>\n",
              "      <td>it is a bit sad to claim the fame for success of  vaccination on patriotic competition between usa, canada, uk and…</td>\n",
              "      <td>['vaccination']</td>\n",
              "      <td>Twitter Web App</td>\n",
              "      <td>0</td>\n",
              "      <td>4</td>\n",
              "      <td>-0.100</td>\n",
              "      <td>0.500000</td>\n",
              "    </tr>\n",
              "    <tr>\n",
              "      <th>7</th>\n",
              "      <td>Dr.Krutika Kuppalli</td>\n",
              "      <td>NaN</td>\n",
              "      <td>ID, Global Health, VHF, Pandemic Prep, Emerging Infections, &amp; Health Policy MD| U.S. Congress COVID-19 expert witness x 2 | ELBI 2020 @JHSPH_CHS</td>\n",
              "      <td>3/25/2019 4:14</td>\n",
              "      <td>21924</td>\n",
              "      <td>593</td>\n",
              "      <td>7815</td>\n",
              "      <td>True</td>\n",
              "      <td>2020-12-12</td>\n",
              "      <td>there have not been many bright days in 2020 but here are some of the best \\n1.  bidenharris winning  election2020…</td>\n",
              "      <td>['BidenHarris', 'Election2020']</td>\n",
              "      <td>Twitter for iPhone</td>\n",
              "      <td>2</td>\n",
              "      <td>22</td>\n",
              "      <td>0.675</td>\n",
              "      <td>0.587500</td>\n",
              "    </tr>\n",
              "  </tbody>\n",
              "</table>\n",
              "</div>"
            ],
            "text/plain": [
              "              user_name                user_location  ... polarity subjectivity\n",
              "0            Rachel Roh    La Crescenta-Montrose, CA  ...    0.000     0.125000\n",
              "2              eli�����                     Your Bed  ...    0.000     0.033333\n",
              "4  Citizen News Channel                          NaN  ...    0.000     0.000000\n",
              "6     Gunther Fehlinger  Austria, Ukraine and Kosovo  ...   -0.100     0.500000\n",
              "7   Dr.Krutika Kuppalli                          NaN  ...    0.675     0.587500\n",
              "\n",
              "[5 rows x 16 columns]"
            ]
          },
          "metadata": {
            "tags": []
          },
          "execution_count": 25
        }
      ]
    },
    {
      "cell_type": "code",
      "metadata": {
        "colab": {
          "base_uri": "https://localhost:8080/",
          "height": 401
        },
        "id": "VSeBoUaHtGHh",
        "outputId": "7e1e1a2c-6300-45c4-def1-6265a8a80567"
      },
      "source": [
        "fig = plt.figure(figsize=(10, 6))\n",
        "df['polarity'].hist()\n",
        "plt.xlabel('Polarity Score', fontsize=18)\n",
        "plt.ylabel('Frequency', fontsize=18)\n",
        "plt.xticks(fontsize=16)\n",
        "plt.yticks(fontsize=16)\n",
        "fig.savefig(\"polarity_hist.png\")"
      ],
      "execution_count": 27,
      "outputs": [
        {
          "output_type": "display_data",
          "data": {
            "image/png": "[encoded data removed]",
            "text/plain": [
              "<Figure size 720x432 with 1 Axes>"
            ]
          },
          "metadata": {
            "tags": [],
            "needs_background": "light"
          }
        }
      ]
    },
    {
      "cell_type": "code",
      "metadata": {
        "colab": {
          "base_uri": "https://localhost:8080/",
          "height": 510
        },
        "id": "6c1ZVcXQwmjk",
        "outputId": "0bcc5351-aaee-442a-dac7-067310e36e5e"
      },
      "source": [
        "fig = plt.figure(figsize=(12, 8))\n",
        "df['subjectivity'].hist()\n",
        "plt.xlabel('Subjectivity Score', fontsize=18)\n",
        "plt.ylabel('Frequency', fontsize=18)\n",
        "plt.xticks(fontsize=16)\n",
        "plt.yticks(fontsize=16)\n",
        "fig.savefig(\"subjectivity_hist.png\")"
      ],
      "execution_count": 28,
      "outputs": [
        {
          "output_type": "display_data",
          "data": {
            "image/png": "[encoded data removed]",
            "text/plain": [
              "<Figure size 864x576 with 1 Axes>"
            ]
          },
          "metadata": {
            "tags": [],
            "needs_background": "light"
          }
        }
      ]
    },
    {
      "cell_type": "code",
      "metadata": {
        "colab": {
          "base_uri": "https://localhost:8080/",
          "height": 355
        },
        "id": "-aR7FnWdxgpj",
        "outputId": "6eabc621-3faa-4265-83c5-8ab53b707741"
      },
      "source": [
        "#inspection of most positive and most positive tweets\n",
        "df.sort_values(by='polarity', ascending=False)[['text', 'polarity', 'subjectivity']].reset_index(drop=True).head(n=10)"
      ],
      "execution_count": 29,
      "outputs": [
        {
          "output_type": "execute_result",
          "data": {
            "text/html": [
              "<div>\n",
              "<style scoped>\n",
              "    .dataframe tbody tr th:only-of-type {\n",
              "        vertical-align: middle;\n",
              "    }\n",
              "\n",
              "    .dataframe tbody tr th {\n",
              "        vertical-align: top;\n",
              "    }\n",
              "\n",
              "    .dataframe thead th {\n",
              "        text-align: right;\n",
              "    }\n",
              "</style>\n",
              "<table border=\"1\" class=\"dataframe\">\n",
              "  <thead>\n",
              "    <tr style=\"text-align: right;\">\n",
              "      <th></th>\n",
              "      <th>text</th>\n",
              "      <th>polarity</th>\n",
              "      <th>subjectivity</th>\n",
              "    </tr>\n",
              "  </thead>\n",
              "  <tbody>\n",
              "    <tr>\n",
              "      <th>0</th>\n",
              "      <td>me and hubby, feel great and grateful!  moderna</td>\n",
              "      <td>1.0</td>\n",
              "      <td>0.75</td>\n",
              "    </tr>\n",
              "    <tr>\n",
              "      <th>1</th>\n",
              "      <td>sounds awesome..... i'll pass\\n covid19 \\n moderna \\n doublemask</td>\n",
              "      <td>1.0</td>\n",
              "      <td>1.00</td>\n",
              "    </tr>\n",
              "    <tr>\n",
              "      <th>2</th>\n",
              "      <td>covid19 p1 varient cause surge in mortality rate in brazil ,even best vaccines are ineffective in it.\\n covid19…</td>\n",
              "      <td>1.0</td>\n",
              "      <td>0.30</td>\n",
              "    </tr>\n",
              "    <tr>\n",
              "      <th>3</th>\n",
              "      <td>trudeau would rather that canadian's die unvaxxed then call russia for the world's best vaccine,  sputnikv</td>\n",
              "      <td>1.0</td>\n",
              "      <td>0.30</td>\n",
              "    </tr>\n",
              "    <tr>\n",
              "      <th>4</th>\n",
              "      <td>a wonderful update by  ranp   at our webinar with   on the  practicalities and important…</td>\n",
              "      <td>1.0</td>\n",
              "      <td>1.00</td>\n",
              "    </tr>\n",
              "    <tr>\n",
              "      <th>5</th>\n",
              "      <td>excellent! india should make it compulsory for anyone coming from china to take  covaxin and be quarantine…</td>\n",
              "      <td>1.0</td>\n",
              "      <td>1.00</td>\n",
              "    </tr>\n",
              "    <tr>\n",
              "      <th>6</th>\n",
              "      <td>scandalous that cdn's are being denied the best &amp;amp; safest vaccine- sputnikv?  r  ,…</td>\n",
              "      <td>1.0</td>\n",
              "      <td>0.30</td>\n",
              "    </tr>\n",
              "    <tr>\n",
              "      <th>7</th>\n",
              "      <td>great explanation of the  moderna vaccine by a manitoba physician!</td>\n",
              "      <td>1.0</td>\n",
              "      <td>0.75</td>\n",
              "    </tr>\n",
              "    <tr>\n",
              "      <th>8</th>\n",
              "      <td>turks are very proud of them ,\\n covidvaccine  pfizerbiontech</td>\n",
              "      <td>1.0</td>\n",
              "      <td>1.00</td>\n",
              "    </tr>\n",
              "    <tr>\n",
              "      <th>9</th>\n",
              "      <td>wonderful that mr modi has taken the  covaxin shot but can you please publish results of phase 3 trials…</td>\n",
              "      <td>1.0</td>\n",
              "      <td>1.00</td>\n",
              "    </tr>\n",
              "  </tbody>\n",
              "</table>\n",
              "</div>"
            ],
            "text/plain": [
              "                                                                                                                 text  ...  subjectivity\n",
              "0                                                                   me and hubby, feel great and grateful!  moderna    ...          0.75\n",
              "1                                                  sounds awesome..... i'll pass\\n covid19 \\n moderna \\n doublemask    ...          1.00\n",
              "2  covid19 p1 varient cause surge in mortality rate in brazil ,even best vaccines are ineffective in it.\\n covid19…    ...          0.30\n",
              "3          trudeau would rather that canadian's die unvaxxed then call russia for the world's best vaccine,  sputnikv  ...          0.30\n",
              "4                         a wonderful update by  ranp   at our webinar with   on the  practicalities and important…    ...          1.00\n",
              "5       excellent! india should make it compulsory for anyone coming from china to take  covaxin and be quarantine…    ...          1.00\n",
              "6                            scandalous that cdn's are being denied the best &amp; safest vaccine- sputnikv?  r  ,…    ...          0.30\n",
              "7                                                great explanation of the  moderna vaccine by a manitoba physician!    ...          0.75\n",
              "8                                                     turks are very proud of them ,\\n covidvaccine  pfizerbiontech    ...          1.00\n",
              "9          wonderful that mr modi has taken the  covaxin shot but can you please publish results of phase 3 trials…    ...          1.00\n",
              "\n",
              "[10 rows x 3 columns]"
            ]
          },
          "metadata": {
            "tags": []
          },
          "execution_count": 29
        }
      ]
    },
    {
      "cell_type": "code",
      "metadata": {
        "id": "CAlLSgzU2Ked"
      },
      "source": [
        "def deEmojify(tex):\n",
        "    regrex_pattern = re.compile(pattern = \"[\"\n",
        "        u\"\\U0001F600-\\U0001F64F\"  # emoticons\n",
        "        u\"\\U0001F300-\\U0001F5FF\"  # symbols & pictographs\n",
        "        u\"\\U0001F680-\\U0001F6FF\"  # transport & map symbols\n",
        "        u\"\\U0001F1E0-\\U0001F1FF\"  # flags (iOS)\n",
        "                           \"]+\", flags = re.UNICODE)\n",
        "    return regrex_pattern.sub(r'',tex)"
      ],
      "execution_count": null,
      "outputs": []
    },
    {
      "cell_type": "code",
      "metadata": {
        "id": "QIJgFa3n2pQU"
      },
      "source": [
        "df['text']=df['text'].apply(deEmojify)"
      ],
      "execution_count": null,
      "outputs": []
    },
    {
      "cell_type": "code",
      "metadata": {
        "colab": {
          "base_uri": "https://localhost:8080/",
          "height": 465
        },
        "id": "YC52o6mP4BYN",
        "outputId": "4d36f85a-fff6-45a7-94f0-fee003f3f1c8"
      },
      "source": [
        "# polarity values ranging from -1 to 1 and sunjectivity range from 0 to 1. Converting the data to 3 classes (negative, neutral, and positive)\n",
        "criteria = [df['polarity'].between(-1, -0.01), df['polarity'].between(-0.01, 0.01), df['polarity'].between(0.01, 1)]\n",
        "values = ['negative', 'neutral', 'positive']\n",
        "df['sentiment'] = np.select(criteria, values, 0)\n",
        "\n",
        "# plot sentiment counts\n",
        "fig = plt.figure(figsize=(10, 6))\n",
        "df['sentiment'].value_counts().sort_index().plot.bar()\n",
        "plt.xlabel('Sentiment Label', fontsize=18)\n",
        "plt.ylabel('Tweet Count', fontsize=18)\n",
        "plt.xticks(fontsize=14)\n",
        "plt.yticks(fontsize=14)\n",
        "plt.show()\n",
        "plt.tight_layout()\n",
        "fig.savefig(\"sentiment_value_counts.png\", bbox_inches='tight');"
      ],
      "execution_count": 30,
      "outputs": [
        {
          "output_type": "display_data",
          "data": {
            "image/png": "[encoded data removed]",
            "text/plain": [
              "<Figure size 720x432 with 1 Axes>"
            ]
          },
          "metadata": {
            "tags": [],
            "needs_background": "light"
          }
        },
        {
          "output_type": "display_data",
          "data": {
            "text/plain": [
              "<Figure size 432x288 with 0 Axes>"
            ]
          },
          "metadata": {
            "tags": []
          }
        }
      ]
    },
    {
      "cell_type": "code",
      "metadata": {
        "colab": {
          "base_uri": "https://localhost:8080/",
          "height": 829
        },
        "id": "S_SPLQXm5gaY",
        "outputId": "dc34c54f-e577-4a19-c4a5-4d415ef41ec9"
      },
      "source": [
        "df.head()"
      ],
      "execution_count": 31,
      "outputs": [
        {
          "output_type": "execute_result",
          "data": {
            "text/html": [
              "<div>\n",
              "<style scoped>\n",
              "    .dataframe tbody tr th:only-of-type {\n",
              "        vertical-align: middle;\n",
              "    }\n",
              "\n",
              "    .dataframe tbody tr th {\n",
              "        vertical-align: top;\n",
              "    }\n",
              "\n",
              "    .dataframe thead th {\n",
              "        text-align: right;\n",
              "    }\n",
              "</style>\n",
              "<table border=\"1\" class=\"dataframe\">\n",
              "  <thead>\n",
              "    <tr style=\"text-align: right;\">\n",
              "      <th></th>\n",
              "      <th>user_name</th>\n",
              "      <th>user_location</th>\n",
              "      <th>user_description</th>\n",
              "      <th>user_created</th>\n",
              "      <th>user_followers</th>\n",
              "      <th>user_friends</th>\n",
              "      <th>user_favourites</th>\n",
              "      <th>user_verified</th>\n",
              "      <th>date</th>\n",
              "      <th>text</th>\n",
              "      <th>hashtags</th>\n",
              "      <th>source</th>\n",
              "      <th>retweets</th>\n",
              "      <th>favorites</th>\n",
              "      <th>polarity</th>\n",
              "      <th>subjectivity</th>\n",
              "      <th>sentiment</th>\n",
              "    </tr>\n",
              "  </thead>\n",
              "  <tbody>\n",
              "    <tr>\n",
              "      <th>0</th>\n",
              "      <td>Rachel Roh</td>\n",
              "      <td>La Crescenta-Montrose, CA</td>\n",
              "      <td>Aggregator of Asian American news; scanning diverse sources 24/7/365. RT's, Follows and 'Likes' will fuel me �‍�</td>\n",
              "      <td>4/8/2009 17:52</td>\n",
              "      <td>405</td>\n",
              "      <td>1692</td>\n",
              "      <td>3247</td>\n",
              "      <td>False</td>\n",
              "      <td>2020-12-20</td>\n",
              "      <td>same folks said daikon paste could treat a cytokine storm  pfizerbiontech</td>\n",
              "      <td>['PfizerBioNTech']</td>\n",
              "      <td>Twitter for Android</td>\n",
              "      <td>0</td>\n",
              "      <td>0</td>\n",
              "      <td>0.000</td>\n",
              "      <td>0.125000</td>\n",
              "      <td>neutral</td>\n",
              "    </tr>\n",
              "    <tr>\n",
              "      <th>2</th>\n",
              "      <td>eli�����</td>\n",
              "      <td>Your Bed</td>\n",
              "      <td>heil, hydra �☺</td>\n",
              "      <td>6/25/2020 23:30</td>\n",
              "      <td>10</td>\n",
              "      <td>88</td>\n",
              "      <td>155</td>\n",
              "      <td>False</td>\n",
              "      <td>2020-12-12</td>\n",
              "      <td>coronavirus  sputnikv  astrazeneca  pfizerbiontech  moderna  covid_19 russian vaccine is created to last 2-4 years…</td>\n",
              "      <td>['coronavirus', 'SputnikV', 'AstraZeneca', 'PfizerBioNTech', 'Moderna', 'Covid_19']</td>\n",
              "      <td>Twitter for Android</td>\n",
              "      <td>0</td>\n",
              "      <td>0</td>\n",
              "      <td>0.000</td>\n",
              "      <td>0.033333</td>\n",
              "      <td>neutral</td>\n",
              "    </tr>\n",
              "    <tr>\n",
              "      <th>4</th>\n",
              "      <td>Citizen News Channel</td>\n",
              "      <td>NaN</td>\n",
              "      <td>Citizen News Channel bringing you an alternative news source from citizen journalists that haven't sold out. Real news &amp; real views</td>\n",
              "      <td>4/23/2020 17:58</td>\n",
              "      <td>152</td>\n",
              "      <td>580</td>\n",
              "      <td>1473</td>\n",
              "      <td>False</td>\n",
              "      <td>2020-12-12</td>\n",
              "      <td>explain to me again why we need a vaccine      whereareallthesickpeople  pfizerbiontech…</td>\n",
              "      <td>['whereareallthesickpeople', 'PfizerBioNTech']</td>\n",
              "      <td>Twitter for iPhone</td>\n",
              "      <td>0</td>\n",
              "      <td>0</td>\n",
              "      <td>0.000</td>\n",
              "      <td>0.000000</td>\n",
              "      <td>neutral</td>\n",
              "    </tr>\n",
              "    <tr>\n",
              "      <th>6</th>\n",
              "      <td>Gunther Fehlinger</td>\n",
              "      <td>Austria, Ukraine and Kosovo</td>\n",
              "      <td>End North Stream 2 now - the pipeline of corruption, funding Russias war against Ukraine,Georgia, Syria and political intervention in USA and EU must be stopped</td>\n",
              "      <td>6/10/2013 17:49</td>\n",
              "      <td>2731</td>\n",
              "      <td>5001</td>\n",
              "      <td>69344</td>\n",
              "      <td>False</td>\n",
              "      <td>2020-12-12</td>\n",
              "      <td>it is a bit sad to claim the fame for success of  vaccination on patriotic competition between usa, canada, uk and…</td>\n",
              "      <td>['vaccination']</td>\n",
              "      <td>Twitter Web App</td>\n",
              "      <td>0</td>\n",
              "      <td>4</td>\n",
              "      <td>-0.100</td>\n",
              "      <td>0.500000</td>\n",
              "      <td>negative</td>\n",
              "    </tr>\n",
              "    <tr>\n",
              "      <th>7</th>\n",
              "      <td>Dr.Krutika Kuppalli</td>\n",
              "      <td>NaN</td>\n",
              "      <td>ID, Global Health, VHF, Pandemic Prep, Emerging Infections, &amp; Health Policy MD| U.S. Congress COVID-19 expert witness x 2 | ELBI 2020 @JHSPH_CHS</td>\n",
              "      <td>3/25/2019 4:14</td>\n",
              "      <td>21924</td>\n",
              "      <td>593</td>\n",
              "      <td>7815</td>\n",
              "      <td>True</td>\n",
              "      <td>2020-12-12</td>\n",
              "      <td>there have not been many bright days in 2020 but here are some of the best \\n1.  bidenharris winning  election2020…</td>\n",
              "      <td>['BidenHarris', 'Election2020']</td>\n",
              "      <td>Twitter for iPhone</td>\n",
              "      <td>2</td>\n",
              "      <td>22</td>\n",
              "      <td>0.675</td>\n",
              "      <td>0.587500</td>\n",
              "      <td>positive</td>\n",
              "    </tr>\n",
              "  </tbody>\n",
              "</table>\n",
              "</div>"
            ],
            "text/plain": [
              "              user_name                user_location  ... subjectivity sentiment\n",
              "0            Rachel Roh    La Crescenta-Montrose, CA  ...     0.125000   neutral\n",
              "2              eli�����                     Your Bed  ...     0.033333   neutral\n",
              "4  Citizen News Channel                          NaN  ...     0.000000   neutral\n",
              "6     Gunther Fehlinger  Austria, Ukraine and Kosovo  ...     0.500000  negative\n",
              "7   Dr.Krutika Kuppalli                          NaN  ...     0.587500  positive\n",
              "\n",
              "[5 rows x 17 columns]"
            ]
          },
          "metadata": {
            "tags": []
          },
          "execution_count": 31
        }
      ]
    },
    {
      "cell_type": "code",
      "metadata": {
        "colab": {
          "base_uri": "https://localhost:8080/"
        },
        "id": "qhEnYbE07dUb",
        "outputId": "5e2b35f5-1ca3-4b41-8724-aee6c94b6666"
      },
      "source": [
        "df.isna().sum()"
      ],
      "execution_count": 32,
      "outputs": [
        {
          "output_type": "execute_result",
          "data": {
            "text/plain": [
              "user_name               0\n",
              "user_location       10210\n",
              "user_description     2984\n",
              "user_created            0\n",
              "user_followers          0\n",
              "user_friends            0\n",
              "user_favourites         0\n",
              "user_verified           0\n",
              "date                    0\n",
              "text                    0\n",
              "hashtags                0\n",
              "source                 53\n",
              "retweets                0\n",
              "favorites               0\n",
              "polarity                0\n",
              "subjectivity            0\n",
              "sentiment               0\n",
              "dtype: int64"
            ]
          },
          "metadata": {
            "tags": []
          },
          "execution_count": 32
        }
      ]
    },
    {
      "cell_type": "code",
      "metadata": {
        "id": "-OdGJ5wN7rRz"
      },
      "source": [
        "encoding = {'negative': 0,\n",
        "            'neutral': 1,\n",
        "            'positive':2\n",
        "           }\n",
        "\n",
        "labels = ['Negative', 'Neutral', 'Positive']\n",
        "           \n",
        "df.replace(encoding, inplace=True)"
      ],
      "execution_count": 33,
      "outputs": []
    },
    {
      "cell_type": "code",
      "metadata": {
        "colab": {
          "base_uri": "https://localhost:8080/",
          "height": 829
        },
        "id": "jW6dluW_8ap9",
        "outputId": "c3e34dc3-aad4-40d0-c5c6-08506640763f"
      },
      "source": [
        "df.head()"
      ],
      "execution_count": 34,
      "outputs": [
        {
          "output_type": "execute_result",
          "data": {
            "text/html": [
              "<div>\n",
              "<style scoped>\n",
              "    .dataframe tbody tr th:only-of-type {\n",
              "        vertical-align: middle;\n",
              "    }\n",
              "\n",
              "    .dataframe tbody tr th {\n",
              "        vertical-align: top;\n",
              "    }\n",
              "\n",
              "    .dataframe thead th {\n",
              "        text-align: right;\n",
              "    }\n",
              "</style>\n",
              "<table border=\"1\" class=\"dataframe\">\n",
              "  <thead>\n",
              "    <tr style=\"text-align: right;\">\n",
              "      <th></th>\n",
              "      <th>user_name</th>\n",
              "      <th>user_location</th>\n",
              "      <th>user_description</th>\n",
              "      <th>user_created</th>\n",
              "      <th>user_followers</th>\n",
              "      <th>user_friends</th>\n",
              "      <th>user_favourites</th>\n",
              "      <th>user_verified</th>\n",
              "      <th>date</th>\n",
              "      <th>text</th>\n",
              "      <th>hashtags</th>\n",
              "      <th>source</th>\n",
              "      <th>retweets</th>\n",
              "      <th>favorites</th>\n",
              "      <th>polarity</th>\n",
              "      <th>subjectivity</th>\n",
              "      <th>sentiment</th>\n",
              "    </tr>\n",
              "  </thead>\n",
              "  <tbody>\n",
              "    <tr>\n",
              "      <th>0</th>\n",
              "      <td>Rachel Roh</td>\n",
              "      <td>La Crescenta-Montrose, CA</td>\n",
              "      <td>Aggregator of Asian American news; scanning diverse sources 24/7/365. RT's, Follows and 'Likes' will fuel me �‍�</td>\n",
              "      <td>4/8/2009 17:52</td>\n",
              "      <td>405</td>\n",
              "      <td>1692</td>\n",
              "      <td>3247</td>\n",
              "      <td>False</td>\n",
              "      <td>2020-12-20</td>\n",
              "      <td>same folks said daikon paste could treat a cytokine storm  pfizerbiontech</td>\n",
              "      <td>['PfizerBioNTech']</td>\n",
              "      <td>Twitter for Android</td>\n",
              "      <td>0</td>\n",
              "      <td>0</td>\n",
              "      <td>0.000</td>\n",
              "      <td>0.125000</td>\n",
              "      <td>1</td>\n",
              "    </tr>\n",
              "    <tr>\n",
              "      <th>2</th>\n",
              "      <td>eli�����</td>\n",
              "      <td>Your Bed</td>\n",
              "      <td>heil, hydra �☺</td>\n",
              "      <td>6/25/2020 23:30</td>\n",
              "      <td>10</td>\n",
              "      <td>88</td>\n",
              "      <td>155</td>\n",
              "      <td>False</td>\n",
              "      <td>2020-12-12</td>\n",
              "      <td>coronavirus  sputnikv  astrazeneca  pfizerbiontech  moderna  covid_19 russian vaccine is created to last 2-4 years…</td>\n",
              "      <td>['coronavirus', 'SputnikV', 'AstraZeneca', 'PfizerBioNTech', 'Moderna', 'Covid_19']</td>\n",
              "      <td>Twitter for Android</td>\n",
              "      <td>0</td>\n",
              "      <td>0</td>\n",
              "      <td>0.000</td>\n",
              "      <td>0.033333</td>\n",
              "      <td>1</td>\n",
              "    </tr>\n",
              "    <tr>\n",
              "      <th>4</th>\n",
              "      <td>Citizen News Channel</td>\n",
              "      <td>NaN</td>\n",
              "      <td>Citizen News Channel bringing you an alternative news source from citizen journalists that haven't sold out. Real news &amp; real views</td>\n",
              "      <td>4/23/2020 17:58</td>\n",
              "      <td>152</td>\n",
              "      <td>580</td>\n",
              "      <td>1473</td>\n",
              "      <td>False</td>\n",
              "      <td>2020-12-12</td>\n",
              "      <td>explain to me again why we need a vaccine      whereareallthesickpeople  pfizerbiontech…</td>\n",
              "      <td>['whereareallthesickpeople', 'PfizerBioNTech']</td>\n",
              "      <td>Twitter for iPhone</td>\n",
              "      <td>0</td>\n",
              "      <td>0</td>\n",
              "      <td>0.000</td>\n",
              "      <td>0.000000</td>\n",
              "      <td>1</td>\n",
              "    </tr>\n",
              "    <tr>\n",
              "      <th>6</th>\n",
              "      <td>Gunther Fehlinger</td>\n",
              "      <td>Austria, Ukraine and Kosovo</td>\n",
              "      <td>End North Stream 2 now - the pipeline of corruption, funding Russias war against Ukraine,Georgia, Syria and political intervention in USA and EU must be stopped</td>\n",
              "      <td>6/10/2013 17:49</td>\n",
              "      <td>2731</td>\n",
              "      <td>5001</td>\n",
              "      <td>69344</td>\n",
              "      <td>False</td>\n",
              "      <td>2020-12-12</td>\n",
              "      <td>it is a bit sad to claim the fame for success of  vaccination on patriotic competition between usa, canada, uk and…</td>\n",
              "      <td>['vaccination']</td>\n",
              "      <td>Twitter Web App</td>\n",
              "      <td>0</td>\n",
              "      <td>4</td>\n",
              "      <td>-0.100</td>\n",
              "      <td>0.500000</td>\n",
              "      <td>0</td>\n",
              "    </tr>\n",
              "    <tr>\n",
              "      <th>7</th>\n",
              "      <td>Dr.Krutika Kuppalli</td>\n",
              "      <td>NaN</td>\n",
              "      <td>ID, Global Health, VHF, Pandemic Prep, Emerging Infections, &amp; Health Policy MD| U.S. Congress COVID-19 expert witness x 2 | ELBI 2020 @JHSPH_CHS</td>\n",
              "      <td>3/25/2019 4:14</td>\n",
              "      <td>21924</td>\n",
              "      <td>593</td>\n",
              "      <td>7815</td>\n",
              "      <td>True</td>\n",
              "      <td>2020-12-12</td>\n",
              "      <td>there have not been many bright days in 2020 but here are some of the best \\n1.  bidenharris winning  election2020…</td>\n",
              "      <td>['BidenHarris', 'Election2020']</td>\n",
              "      <td>Twitter for iPhone</td>\n",
              "      <td>2</td>\n",
              "      <td>22</td>\n",
              "      <td>0.675</td>\n",
              "      <td>0.587500</td>\n",
              "      <td>2</td>\n",
              "    </tr>\n",
              "  </tbody>\n",
              "</table>\n",
              "</div>"
            ],
            "text/plain": [
              "              user_name                user_location  ... subjectivity sentiment\n",
              "0            Rachel Roh    La Crescenta-Montrose, CA  ...     0.125000         1\n",
              "2              eli�����                     Your Bed  ...     0.033333         1\n",
              "4  Citizen News Channel                          NaN  ...     0.000000         1\n",
              "6     Gunther Fehlinger  Austria, Ukraine and Kosovo  ...     0.500000         0\n",
              "7   Dr.Krutika Kuppalli                          NaN  ...     0.587500         2\n",
              "\n",
              "[5 rows x 17 columns]"
            ]
          },
          "metadata": {
            "tags": []
          },
          "execution_count": 34
        }
      ]
    },
    {
      "cell_type": "code",
      "metadata": {
        "id": "tZjpP1HjaPxN"
      },
      "source": [
        "df.to_csv(\"Dataset_Covid_vaccine_classification.csv\")"
      ],
      "execution_count": 35,
      "outputs": []
    },
    {
      "cell_type": "code",
      "metadata": {
        "id": "7qIHbbT581Nu"
      },
      "source": [
        "def removestopwords(tweet):\n",
        "  tweet = tweet.split()\n",
        "  tweet = \" \".join([word for word in tweet if not word in stop_words])\n",
        "    \n",
        "  return tweet\n"
      ],
      "execution_count": 54,
      "outputs": []
    },
    {
      "cell_type": "code",
      "metadata": {
        "colab": {
          "base_uri": "https://localhost:8080/",
          "height": 811
        },
        "id": "k8pf3x2lG9Ww",
        "outputId": "98adf9cb-beea-476c-a86e-1175db76c5f3"
      },
      "source": [
        "stop_words = stopwords.words('english')\n",
        "\n",
        "df['text'] = df['text'].apply(removestopwords)\n",
        "df.head()"
      ],
      "execution_count": 55,
      "outputs": [
        {
          "output_type": "execute_result",
          "data": {
            "text/html": [
              "<div>\n",
              "<style scoped>\n",
              "    .dataframe tbody tr th:only-of-type {\n",
              "        vertical-align: middle;\n",
              "    }\n",
              "\n",
              "    .dataframe tbody tr th {\n",
              "        vertical-align: top;\n",
              "    }\n",
              "\n",
              "    .dataframe thead th {\n",
              "        text-align: right;\n",
              "    }\n",
              "</style>\n",
              "<table border=\"1\" class=\"dataframe\">\n",
              "  <thead>\n",
              "    <tr style=\"text-align: right;\">\n",
              "      <th></th>\n",
              "      <th>user_name</th>\n",
              "      <th>user_location</th>\n",
              "      <th>user_description</th>\n",
              "      <th>user_created</th>\n",
              "      <th>user_followers</th>\n",
              "      <th>user_friends</th>\n",
              "      <th>user_favourites</th>\n",
              "      <th>user_verified</th>\n",
              "      <th>date</th>\n",
              "      <th>text</th>\n",
              "      <th>hashtags</th>\n",
              "      <th>source</th>\n",
              "      <th>retweets</th>\n",
              "      <th>favorites</th>\n",
              "      <th>polarity</th>\n",
              "      <th>subjectivity</th>\n",
              "      <th>sentiment</th>\n",
              "    </tr>\n",
              "  </thead>\n",
              "  <tbody>\n",
              "    <tr>\n",
              "      <th>0</th>\n",
              "      <td>Rachel Roh</td>\n",
              "      <td>La Crescenta-Montrose, CA</td>\n",
              "      <td>Aggregator of Asian American news; scanning diverse sources 24/7/365. RT's, Follows and 'Likes' will fuel me �‍�</td>\n",
              "      <td>4/8/2009 17:52</td>\n",
              "      <td>405</td>\n",
              "      <td>1692</td>\n",
              "      <td>3247</td>\n",
              "      <td>False</td>\n",
              "      <td>2020-12-20</td>\n",
              "      <td>folks said daikon paste could treat cytokine storm pfizerbiontech</td>\n",
              "      <td>['PfizerBioNTech']</td>\n",
              "      <td>Twitter for Android</td>\n",
              "      <td>0</td>\n",
              "      <td>0</td>\n",
              "      <td>0.000</td>\n",
              "      <td>0.125000</td>\n",
              "      <td>1</td>\n",
              "    </tr>\n",
              "    <tr>\n",
              "      <th>2</th>\n",
              "      <td>eli�����</td>\n",
              "      <td>Your Bed</td>\n",
              "      <td>heil, hydra �☺</td>\n",
              "      <td>6/25/2020 23:30</td>\n",
              "      <td>10</td>\n",
              "      <td>88</td>\n",
              "      <td>155</td>\n",
              "      <td>False</td>\n",
              "      <td>2020-12-12</td>\n",
              "      <td>coronavirus sputnikv astrazeneca pfizerbiontech moderna covid_19 russian vaccine created last 2-4 years…</td>\n",
              "      <td>['coronavirus', 'SputnikV', 'AstraZeneca', 'PfizerBioNTech', 'Moderna', 'Covid_19']</td>\n",
              "      <td>Twitter for Android</td>\n",
              "      <td>0</td>\n",
              "      <td>0</td>\n",
              "      <td>0.000</td>\n",
              "      <td>0.033333</td>\n",
              "      <td>1</td>\n",
              "    </tr>\n",
              "    <tr>\n",
              "      <th>4</th>\n",
              "      <td>Citizen News Channel</td>\n",
              "      <td>NaN</td>\n",
              "      <td>Citizen News Channel bringing you an alternative news source from citizen journalists that haven't sold out. Real news &amp; real views</td>\n",
              "      <td>4/23/2020 17:58</td>\n",
              "      <td>152</td>\n",
              "      <td>580</td>\n",
              "      <td>1473</td>\n",
              "      <td>False</td>\n",
              "      <td>2020-12-12</td>\n",
              "      <td>explain need vaccine whereareallthesickpeople pfizerbiontech…</td>\n",
              "      <td>['whereareallthesickpeople', 'PfizerBioNTech']</td>\n",
              "      <td>Twitter for iPhone</td>\n",
              "      <td>0</td>\n",
              "      <td>0</td>\n",
              "      <td>0.000</td>\n",
              "      <td>0.000000</td>\n",
              "      <td>1</td>\n",
              "    </tr>\n",
              "    <tr>\n",
              "      <th>6</th>\n",
              "      <td>Gunther Fehlinger</td>\n",
              "      <td>Austria, Ukraine and Kosovo</td>\n",
              "      <td>End North Stream 2 now - the pipeline of corruption, funding Russias war against Ukraine,Georgia, Syria and political intervention in USA and EU must be stopped</td>\n",
              "      <td>6/10/2013 17:49</td>\n",
              "      <td>2731</td>\n",
              "      <td>5001</td>\n",
              "      <td>69344</td>\n",
              "      <td>False</td>\n",
              "      <td>2020-12-12</td>\n",
              "      <td>bit sad claim fame success vaccination patriotic competition usa, canada, uk and…</td>\n",
              "      <td>['vaccination']</td>\n",
              "      <td>Twitter Web App</td>\n",
              "      <td>0</td>\n",
              "      <td>4</td>\n",
              "      <td>-0.100</td>\n",
              "      <td>0.500000</td>\n",
              "      <td>0</td>\n",
              "    </tr>\n",
              "    <tr>\n",
              "      <th>7</th>\n",
              "      <td>Dr.Krutika Kuppalli</td>\n",
              "      <td>NaN</td>\n",
              "      <td>ID, Global Health, VHF, Pandemic Prep, Emerging Infections, &amp; Health Policy MD| U.S. Congress COVID-19 expert witness x 2 | ELBI 2020 @JHSPH_CHS</td>\n",
              "      <td>3/25/2019 4:14</td>\n",
              "      <td>21924</td>\n",
              "      <td>593</td>\n",
              "      <td>7815</td>\n",
              "      <td>True</td>\n",
              "      <td>2020-12-12</td>\n",
              "      <td>many bright days 2020 best 1. bidenharris winning election2020…</td>\n",
              "      <td>['BidenHarris', 'Election2020']</td>\n",
              "      <td>Twitter for iPhone</td>\n",
              "      <td>2</td>\n",
              "      <td>22</td>\n",
              "      <td>0.675</td>\n",
              "      <td>0.587500</td>\n",
              "      <td>2</td>\n",
              "    </tr>\n",
              "  </tbody>\n",
              "</table>\n",
              "</div>"
            ],
            "text/plain": [
              "              user_name                user_location  ... subjectivity sentiment\n",
              "0            Rachel Roh    La Crescenta-Montrose, CA  ...     0.125000         1\n",
              "2              eli�����                     Your Bed  ...     0.033333         1\n",
              "4  Citizen News Channel                          NaN  ...     0.000000         1\n",
              "6     Gunther Fehlinger  Austria, Ukraine and Kosovo  ...     0.500000         0\n",
              "7   Dr.Krutika Kuppalli                          NaN  ...     0.587500         2\n",
              "\n",
              "[5 rows x 17 columns]"
            ]
          },
          "metadata": {
            "tags": []
          },
          "execution_count": 55
        }
      ]
    },
    {
      "cell_type": "code",
      "metadata": {
        "colab": {
          "base_uri": "https://localhost:8080/"
        },
        "id": "lQ9dKuwJHeUV",
        "outputId": "3314888d-41a6-409e-8c11-12f8626b1522"
      },
      "source": [
        "df.columns"
      ],
      "execution_count": 36,
      "outputs": [
        {
          "output_type": "execute_result",
          "data": {
            "text/plain": [
              "Index(['user_name', 'user_location', 'user_description', 'user_created',\n",
              "       'user_followers', 'user_friends', 'user_favourites', 'user_verified',\n",
              "       'date', 'text', 'hashtags', 'source', 'retweets', 'favorites',\n",
              "       'polarity', 'subjectivity', 'sentiment'],\n",
              "      dtype='object')"
            ]
          },
          "metadata": {
            "tags": []
          },
          "execution_count": 36
        }
      ]
    },
    {
      "cell_type": "code",
      "metadata": {
        "id": "KGodLlO9MH_0",
        "colab": {
          "base_uri": "https://localhost:8080/"
        },
        "outputId": "6599fc81-e159-424f-8a37-033c77335ac1"
      },
      "source": [
        "from wordcloud import WordCloud, ImageColorGenerator\n",
        "from collections import Counter\n",
        "import nltk\n",
        "import math\n",
        "import random\n",
        "nltk.download('wordnet')\n",
        "nltk.download('stopwords')\n",
        "from nltk.stem import WordNetLemmatizer\n",
        "from nltk.corpus import stopwords \n",
        "stop_words = set(stopwords.words('english'))  \n",
        "stop_words.add(\"amp\")"
      ],
      "execution_count": 39,
      "outputs": [
        {
          "output_type": "stream",
          "text": [
            "[nltk_data] Downloading package wordnet to /root/nltk_data...\n",
            "[nltk_data]   Unzipping corpora/wordnet.zip.\n",
            "[nltk_data] Downloading package stopwords to /root/nltk_data...\n",
            "[nltk_data]   Package stopwords is already up-to-date!\n"
          ],
          "name": "stdout"
        }
      ]
    },
    {
      "cell_type": "code",
      "metadata": {
        "id": "9IRGVb6anuSf"
      },
      "source": [
        "from nltk.stem.porter import PorterStemmer\n",
        "from nltk.tokenize import TweetTokenizer\n",
        "from nltk.tokenize import word_tokenize"
      ],
      "execution_count": 49,
      "outputs": []
    },
    {
      "cell_type": "code",
      "metadata": {
        "colab": {
          "base_uri": "https://localhost:8080/",
          "height": 310
        },
        "id": "NUqZnhU8dXGn",
        "outputId": "d6d6c582-8e2d-49cb-c24a-5a4155e924f2"
      },
      "source": [
        "#generating word clouds for the analysing people fededback on COVID-19 vaccine\n",
        "words = ' '.join([word for word in df['text']])\n",
        "word_cloud = WordCloud(width=1200, height=500, random_state=20, max_font_size=120).generate(words)\n",
        "\n",
        "fig, ax = plt.subplots(figsize=(12,6))\n",
        "plt.imshow(word_cloud, interpolation='bilinear')\n",
        "plt.axis('off')\n",
        "fig.savefig(\"wordcloud.png\")"
      ],
      "execution_count": 42,
      "outputs": [
        {
          "output_type": "display_data",
          "data": {
            "image/png": "[encoded data removed]",
            "text/plain": [
              "<Figure size 864x432 with 1 Axes>"
            ]
          },
          "metadata": {
            "tags": [],
            "needs_background": "light"
          }
        }
      ]
    },
    {
      "cell_type": "code",
      "metadata": {
        "id": "5JhoHaredqEd"
      },
      "source": [
        "from tensorflow.keras.preprocessing.text import Tokenizer\n",
        "from tensorflow.keras.preprocessing.sequence import pad_sequences\n",
        "import tensorflow.keras.layers as L\n",
        "from tensorflow.keras.losses import SparseCategoricalCrossentropy\n",
        "from tensorflow.keras.optimizers import Adam\n",
        "import tensorflow as tf\n",
        "from tensorflow.keras.callbacks import ModelCheckpoint"
      ],
      "execution_count": 76,
      "outputs": []
    },
    {
      "cell_type": "code",
      "metadata": {
        "id": "G7i9XyRJj3LE"
      },
      "source": [
        "X_data = df['text'].copy()\n",
        "y_data = df['sentiment'].copy()"
      ],
      "execution_count": 59,
      "outputs": []
    },
    {
      "cell_type": "code",
      "metadata": {
        "colab": {
          "base_uri": "https://localhost:8080/"
        },
        "id": "o_HfRgNvnTPT",
        "outputId": "9ceaf38e-05f3-41cf-da23-ae27756cd08a"
      },
      "source": [
        "#now tokenise the sentences\n",
        "tokenizer = Tokenizer()\n",
        "tokenizer.fit_on_texts(X_data)\n",
        "\n",
        "X = tokenizer.texts_to_sequences(X_data)\n",
        "\n",
        "vocab_size = len(tokenizer.word_index)+1\n",
        "\n",
        "print(\"Vocabulary size: {}\".format(vocab_size))\n",
        "print(\"\\nExample:\\n\")\n",
        "print(\"Sentence:\\n{}\".format(X_data[6]))\n",
        "print(\"\\nAfter tokenizing :\\n{}\".format(X[6]))\n",
        "\n",
        "X = pad_sequences(X, padding='post')\n",
        "print(\"\\nAfter padding :\\n{}\".format(X[6]))"
      ],
      "execution_count": 97,
      "outputs": [
        {
          "output_type": "stream",
          "text": [
            "Vocabulary size: 37530\n",
            "\n",
            "Example:\n",
            "\n",
            "Sentence:\n",
            "bit sad claim fame success vaccination patriotic competition usa, canada, uk and…\n",
            "\n",
            "After tokenizing :\n",
            "[18, 474, 183, 51, 40, 258, 53, 72, 3568, 1236, 521, 11147]\n",
            "\n",
            "After padding :\n",
            "[   18   474   183    51    40   258    53    72  3568  1236   521 11147\n",
            "     0     0     0     0     0     0     0     0     0     0     0     0]\n"
          ],
          "name": "stdout"
        }
      ]
    },
    {
      "cell_type": "code",
      "metadata": {
        "id": "2SciG8eI9uSm"
      },
      "source": [
        "import pickle\n",
        "pickle.dump(X,open('X-model.pkl','wb'))"
      ],
      "execution_count": 98,
      "outputs": []
    },
    {
      "cell_type": "code",
      "metadata": {
        "id": "ZpyKE9EamyPV"
      },
      "source": [
        "from sklearn.model_selection import train_test_split\n",
        "X_train, X_test, y_train, y_test = train_test_split(X, y_data, test_size=0.25, random_state=0)"
      ],
      "execution_count": 67,
      "outputs": []
    },
    {
      "cell_type": "code",
      "metadata": {
        "colab": {
          "base_uri": "https://localhost:8080/"
        },
        "id": "vSKTUrdsrzf7",
        "outputId": "f91a3568-353e-402d-bdae-7750758b594b"
      },
      "source": [
        "X_train.shape, X_test.shape, y_train.shape, y_test.shape"
      ],
      "execution_count": 68,
      "outputs": [
        {
          "output_type": "execute_result",
          "data": {
            "text/plain": [
              "((33260, 24), (11087, 24), (33260,), (11087,))"
            ]
          },
          "metadata": {
            "tags": []
          },
          "execution_count": 68
        }
      ]
    },
    {
      "cell_type": "code",
      "metadata": {
        "id": "-ZrtA2nRoyn-"
      },
      "source": [
        "tf.keras.backend.clear_session()\n",
        "\n",
        "# hyper parameters\n",
        "EPOCHS = 2\n",
        "BATCH_SIZE = 32\n",
        "embedding_dim = 16\n",
        "units = 256\n",
        "\n",
        "model = tf.keras.Sequential([\n",
        "    L.Embedding(vocab_size, embedding_dim, input_length=X_train.shape[1]),\n",
        "    L.Bidirectional(L.LSTM(units,return_sequences=True)),\n",
        "    L.GlobalMaxPool1D(),\n",
        "    L.Dropout(0.4),\n",
        "    L.Dense(64, activation=\"relu\"),\n",
        "    L.Dropout(0.4),\n",
        "    L.Dense(3)\n",
        "])"
      ],
      "execution_count": 79,
      "outputs": []
    },
    {
      "cell_type": "code",
      "metadata": {
        "colab": {
          "base_uri": "https://localhost:8080/"
        },
        "id": "Fx6J4p1iq7TS",
        "outputId": "6cf50b72-fd1c-41c3-e6ed-858b315b1a14"
      },
      "source": [
        "#compiling model with loss function and optimiser\n",
        "model.compile(loss=SparseCategoricalCrossentropy(from_logits=True),\n",
        "              optimizer='adam',metrics=['accuracy']\n",
        "             )\n",
        "\n",
        "model.summary()"
      ],
      "execution_count": 80,
      "outputs": [
        {
          "output_type": "stream",
          "text": [
            "Model: \"sequential\"\n",
            "_________________________________________________________________\n",
            "Layer (type)                 Output Shape              Param #   \n",
            "=================================================================\n",
            "embedding (Embedding)        (None, 24, 16)            600480    \n",
            "_________________________________________________________________\n",
            "bidirectional (Bidirectional (None, 24, 512)           559104    \n",
            "_________________________________________________________________\n",
            "global_max_pooling1d (Global (None, 512)               0         \n",
            "_________________________________________________________________\n",
            "dropout (Dropout)            (None, 512)               0         \n",
            "_________________________________________________________________\n",
            "dense (Dense)                (None, 64)                32832     \n",
            "_________________________________________________________________\n",
            "dropout_1 (Dropout)          (None, 64)                0         \n",
            "_________________________________________________________________\n",
            "dense_1 (Dense)              (None, 3)                 195       \n",
            "=================================================================\n",
            "Total params: 1,192,611\n",
            "Trainable params: 1,192,611\n",
            "Non-trainable params: 0\n",
            "_________________________________________________________________\n"
          ],
          "name": "stdout"
        }
      ]
    },
    {
      "cell_type": "code",
      "metadata": {
        "colab": {
          "base_uri": "https://localhost:8080/"
        },
        "id": "cqwMVc_4yxlS",
        "outputId": "df5a853c-cf13-4510-f3c6-580cb5ff276f"
      },
      "source": [
        "checkpoint = ModelCheckpoint(\"best_model_COVID.hdf5\", monitor='loss', verbose=1,\n",
        "    save_best_only=False, mode='auto', period=1)"
      ],
      "execution_count": 81,
      "outputs": [
        {
          "output_type": "stream",
          "text": [
            "WARNING:tensorflow:`period` argument is deprecated. Please use `save_freq` to specify the frequency in number of batches seen.\n"
          ],
          "name": "stdout"
        }
      ]
    },
    {
      "cell_type": "code",
      "metadata": {
        "colab": {
          "base_uri": "https://localhost:8080/"
        },
        "id": "n87MUKr-rXh7",
        "outputId": "9a4db08f-eba3-4c81-9e52-de93e0d88b12"
      },
      "source": [
        "Covid_model = model.fit(X_train, y_train,epochs=EPOCHS, batch_size=BATCH_SIZE,verbose=1,\n",
        "          validation_data=(X_test, y_test),\n",
        "          callbacks=[checkpoint])\n"
      ],
      "execution_count": 82,
      "outputs": [
        {
          "output_type": "stream",
          "text": [
            "Epoch 1/2\n",
            "1040/1040 [==============================] - 172s 162ms/step - loss: 0.7287 - accuracy: 0.6763 - val_loss: 0.3093 - val_accuracy: 0.9088\n",
            "\n",
            "Epoch 00001: saving model to best_model_COVID.hdf5\n",
            "Epoch 2/2\n",
            "1040/1040 [==============================] - 167s 161ms/step - loss: 0.2466 - accuracy: 0.9287 - val_loss: 0.2938 - val_accuracy: 0.9176\n",
            "\n",
            "Epoch 00002: saving model to best_model_COVID.hdf5\n"
          ],
          "name": "stdout"
        }
      ]
    },
    {
      "cell_type": "code",
      "metadata": {
        "colab": {
          "base_uri": "https://localhost:8080/"
        },
        "id": "CvFAgi0kw5d6",
        "outputId": "fd829daa-fa75-4e4c-d827-e565b07c072a"
      },
      "source": [
        "pred = model.predict_classes(X_test)"
      ],
      "execution_count": 85,
      "outputs": [
        {
          "output_type": "stream",
          "text": [
            "/usr/local/lib/python3.7/dist-packages/tensorflow/python/keras/engine/sequential.py:450: UserWarning:\n",
            "\n",
            "`model.predict_classes()` is deprecated and will be removed after 2021-01-01. Please use instead:* `np.argmax(model.predict(x), axis=-1)`,   if your model does multi-class classification   (e.g. if it uses a `softmax` last-layer activation).* `(model.predict(x) > 0.5).astype(\"int32\")`,   if your model does binary classification   (e.g. if it uses a `sigmoid` last-layer activation).\n",
            "\n"
          ],
          "name": "stderr"
        }
      ]
    },
    {
      "cell_type": "code",
      "metadata": {
        "colab": {
          "base_uri": "https://localhost:8080/"
        },
        "id": "dkZwOCzr5v32",
        "outputId": "e580e474-bb82-4551-f396-5179993191f2"
      },
      "source": [
        "pred"
      ],
      "execution_count": 86,
      "outputs": [
        {
          "output_type": "execute_result",
          "data": {
            "text/plain": [
              "array([2, 1, 1, ..., 1, 1, 1])"
            ]
          },
          "metadata": {
            "tags": []
          },
          "execution_count": 86
        }
      ]
    },
    {
      "cell_type": "code",
      "metadata": {
        "colab": {
          "base_uri": "https://localhost:8080/"
        },
        "id": "blIhVQag6CYk",
        "outputId": "0c55f95c-51c9-4d25-81f1-89977f769905"
      },
      "source": [
        "loss, acc = model.evaluate(X_test,y_test,verbose=0)\n",
        "print('Test loss: {}'.format(loss))\n",
        "print('Test Accuracy: {}'.format(acc))"
      ],
      "execution_count": 87,
      "outputs": [
        {
          "output_type": "stream",
          "text": [
            "Test loss: 0.2937680780887604\n",
            "Test Accuracy: 0.9175611138343811\n"
          ],
          "name": "stdout"
        }
      ]
    },
    {
      "cell_type": "code",
      "metadata": {
        "id": "pZlm7Ewo6NHI"
      },
      "source": [
        "from sklearn.metrics import confusion_matrix\n",
        "from sklearn.metrics import classification_report\n",
        "\n"
      ],
      "execution_count": 89,
      "outputs": []
    },
    {
      "cell_type": "code",
      "metadata": {
        "colab": {
          "base_uri": "https://localhost:8080/"
        },
        "id": "haxTBNYk6gNL",
        "outputId": "bf1a8af9-5849-4b72-b3e3-484d53613b22"
      },
      "source": [
        "print(classification_report(y_test, pred, target_names=labels))"
      ],
      "execution_count": 90,
      "outputs": [
        {
          "output_type": "stream",
          "text": [
            "              precision    recall  f1-score   support\n",
            "\n",
            "    Negative       0.84      0.77      0.80      1265\n",
            "     Neutral       0.93      0.96      0.94      5417\n",
            "    Positive       0.93      0.91      0.92      4405\n",
            "\n",
            "    accuracy                           0.92     11087\n",
            "   macro avg       0.90      0.88      0.89     11087\n",
            "weighted avg       0.92      0.92      0.92     11087\n",
            "\n"
          ],
          "name": "stdout"
        }
      ]
    },
    {
      "cell_type": "code",
      "metadata": {
        "colab": {
          "base_uri": "https://localhost:8080/",
          "height": 428
        },
        "id": "e_5QGCfU6WbT",
        "outputId": "54700c59-1b38-4cde-ac37-6523ff8c698b"
      },
      "source": [
        "conf = confusion_matrix(y_test, pred)\n",
        "\n",
        "cm = pd.DataFrame(\n",
        "    conf, index = [i for i in labels],\n",
        "    columns = [i for i in labels]\n",
        ")\n",
        "\n",
        "plt.figure(figsize = (12,7))\n",
        "sns.heatmap(cm, annot=True, fmt=\"d\")\n",
        "plt.show()"
      ],
      "execution_count": 91,
      "outputs": [
        {
          "output_type": "display_data",
          "data": {
            "image/png": "[encoded data removed]",
            "text/plain": [
              "<Figure size 864x504 with 2 Axes>"
            ]
          },
          "metadata": {
            "tags": [],
            "needs_background": "light"
          }
        }
      ]
    },
    {
      "cell_type": "code",
      "metadata": {
        "colab": {
          "base_uri": "https://localhost:8080/",
          "height": 35
        },
        "id": "9GN_XaeX6w5n",
        "outputId": "7cfc5b4f-d0c6-4256-abce-a67ad33842e5"
      },
      "source": [
        "tf.__version__"
      ],
      "execution_count": 94,
      "outputs": [
        {
          "output_type": "execute_result",
          "data": {
            "application/vnd.google.colaboratory.intrinsic+json": {
              "type": "string"
            },
            "text/plain": [
              "'2.4.1'"
            ]
          },
          "metadata": {
            "tags": []
          },
          "execution_count": 94
        }
      ]
    },
    {
      "cell_type": "code",
      "metadata": {
        "colab": {
          "base_uri": "https://localhost:8080/",
          "height": 35
        },
        "id": "lVb12j-fBrG3",
        "outputId": "69e0ee4a-b16d-4a1c-89b3-f1e025271f2a"
      },
      "source": [
        "tf.keras.__version__"
      ],
      "execution_count": 96,
      "outputs": [
        {
          "output_type": "execute_result",
          "data": {
            "application/vnd.google.colaboratory.intrinsic+json": {
              "type": "string"
            },
            "text/plain": [
              "'2.4.0'"
            ]
          },
          "metadata": {
            "tags": []
          },
          "execution_count": 96
        }
      ]
    },
    {
      "cell_type": "code",
      "metadata": {
        "id": "5QD0d3oBBvCv"
      },
      "source": [
        ""
      ],
      "execution_count": null,
      "outputs": []
    }
  ]
}